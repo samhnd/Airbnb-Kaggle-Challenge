{
 "cells": [
  {
   "cell_type": "markdown",
   "metadata": {
    "colab_type": "text",
    "id": "wW0Yz6hWesMl"
   },
   "source": [
    "# AirBNB Data Visualization"
   ]
  },
  {
   "cell_type": "markdown",
   "metadata": {},
   "source": [
    "#### HENDOU Samy"
   ]
  },
  {
   "cell_type": "markdown",
   "metadata": {
    "colab_type": "text",
    "id": "AzTuSnzwesMp"
   },
   "source": [
    "We want to predict if the next user will book a room or not, and if yes, in which country."
   ]
  },
  {
   "cell_type": "code",
   "execution_count": 77,
   "metadata": {
    "colab": {},
    "colab_type": "code",
    "id": "OOSOoGy2esMt"
   },
   "outputs": [],
   "source": [
    "%matplotlib inline\n",
    "import numpy as np\n",
    "import matplotlib.pyplot as plt\n",
    "import pandas as pd\n",
    "import seaborn as sns\n",
    "import missingno as msno"
   ]
  },
  {
   "cell_type": "code",
   "execution_count": 2,
   "metadata": {
    "colab": {
     "base_uri": "https://localhost:8080/",
     "height": 74,
     "resources": {
      "http://localhost:8080/nbextensions/google.colab/files.js": {
       "data": "Ly8gQ29weXJpZ2h0IDIwMTcgR29vZ2xlIExMQwovLwovLyBMaWNlbnNlZCB1bmRlciB0aGUgQXBhY2hlIExpY2Vuc2UsIFZlcnNpb24gMi4wICh0aGUgIkxpY2Vuc2UiKTsKLy8geW91IG1heSBub3QgdXNlIHRoaXMgZmlsZSBleGNlcHQgaW4gY29tcGxpYW5jZSB3aXRoIHRoZSBMaWNlbnNlLgovLyBZb3UgbWF5IG9idGFpbiBhIGNvcHkgb2YgdGhlIExpY2Vuc2UgYXQKLy8KLy8gICAgICBodHRwOi8vd3d3LmFwYWNoZS5vcmcvbGljZW5zZXMvTElDRU5TRS0yLjAKLy8KLy8gVW5sZXNzIHJlcXVpcmVkIGJ5IGFwcGxpY2FibGUgbGF3IG9yIGFncmVlZCB0byBpbiB3cml0aW5nLCBzb2Z0d2FyZQovLyBkaXN0cmlidXRlZCB1bmRlciB0aGUgTGljZW5zZSBpcyBkaXN0cmlidXRlZCBvbiBhbiAiQVMgSVMiIEJBU0lTLAovLyBXSVRIT1VUIFdBUlJBTlRJRVMgT1IgQ09ORElUSU9OUyBPRiBBTlkgS0lORCwgZWl0aGVyIGV4cHJlc3Mgb3IgaW1wbGllZC4KLy8gU2VlIHRoZSBMaWNlbnNlIGZvciB0aGUgc3BlY2lmaWMgbGFuZ3VhZ2UgZ292ZXJuaW5nIHBlcm1pc3Npb25zIGFuZAovLyBsaW1pdGF0aW9ucyB1bmRlciB0aGUgTGljZW5zZS4KCi8qKgogKiBAZmlsZW92ZXJ2aWV3IEhlbHBlcnMgZm9yIGdvb2dsZS5jb2xhYiBQeXRob24gbW9kdWxlLgogKi8KKGZ1bmN0aW9uKHNjb3BlKSB7CmZ1bmN0aW9uIHNwYW4odGV4dCwgc3R5bGVBdHRyaWJ1dGVzID0ge30pIHsKICBjb25zdCBlbGVtZW50ID0gZG9jdW1lbnQuY3JlYXRlRWxlbWVudCgnc3BhbicpOwogIGVsZW1lbnQudGV4dENvbnRlbnQgPSB0ZXh0OwogIGZvciAoY29uc3Qga2V5IG9mIE9iamVjdC5rZXlzKHN0eWxlQXR0cmlidXRlcykpIHsKICAgIGVsZW1lbnQuc3R5bGVba2V5XSA9IHN0eWxlQXR0cmlidXRlc1trZXldOwogIH0KICByZXR1cm4gZWxlbWVudDsKfQoKLy8gTWF4IG51bWJlciBvZiBieXRlcyB3aGljaCB3aWxsIGJlIHVwbG9hZGVkIGF0IGEgdGltZS4KY29uc3QgTUFYX1BBWUxPQURfU0laRSA9IDEwMCAqIDEwMjQ7Ci8vIE1heCBhbW91bnQgb2YgdGltZSB0byBibG9jayB3YWl0aW5nIGZvciB0aGUgdXNlci4KY29uc3QgRklMRV9DSEFOR0VfVElNRU9VVF9NUyA9IDMwICogMTAwMDsKCmZ1bmN0aW9uIF91cGxvYWRGaWxlcyhpbnB1dElkLCBvdXRwdXRJZCkgewogIGNvbnN0IHN0ZXBzID0gdXBsb2FkRmlsZXNTdGVwKGlucHV0SWQsIG91dHB1dElkKTsKICBjb25zdCBvdXRwdXRFbGVtZW50ID0gZG9jdW1lbnQuZ2V0RWxlbWVudEJ5SWQob3V0cHV0SWQpOwogIC8vIENhY2hlIHN0ZXBzIG9uIHRoZSBvdXRwdXRFbGVtZW50IHRvIG1ha2UgaXQgYXZhaWxhYmxlIGZvciB0aGUgbmV4dCBjYWxsCiAgLy8gdG8gdXBsb2FkRmlsZXNDb250aW51ZSBmcm9tIFB5dGhvbi4KICBvdXRwdXRFbGVtZW50LnN0ZXBzID0gc3RlcHM7CgogIHJldHVybiBfdXBsb2FkRmlsZXNDb250aW51ZShvdXRwdXRJZCk7Cn0KCi8vIFRoaXMgaXMgcm91Z2hseSBhbiBhc3luYyBnZW5lcmF0b3IgKG5vdCBzdXBwb3J0ZWQgaW4gdGhlIGJyb3dzZXIgeWV0KSwKLy8gd2hlcmUgdGhlcmUgYXJlIG11bHRpcGxlIGFzeW5jaHJvbm91cyBzdGVwcyBhbmQgdGhlIFB5dGhvbiBzaWRlIGlzIGdvaW5nCi8vIHRvIHBvbGwgZm9yIGNvbXBsZXRpb24gb2YgZWFjaCBzdGVwLgovLyBUaGlzIHVzZXMgYSBQcm9taXNlIHRvIGJsb2NrIHRoZSBweXRob24gc2lkZSBvbiBjb21wbGV0aW9uIG9mIGVhY2ggc3RlcCwKLy8gdGhlbiBwYXNzZXMgdGhlIHJlc3VsdCBvZiB0aGUgcHJldmlvdXMgc3RlcCBhcyB0aGUgaW5wdXQgdG8gdGhlIG5leHQgc3RlcC4KZnVuY3Rpb24gX3VwbG9hZEZpbGVzQ29udGludWUob3V0cHV0SWQpIHsKICBjb25zdCBvdXRwdXRFbGVtZW50ID0gZG9jdW1lbnQuZ2V0RWxlbWVudEJ5SWQob3V0cHV0SWQpOwogIGNvbnN0IHN0ZXBzID0gb3V0cHV0RWxlbWVudC5zdGVwczsKCiAgY29uc3QgbmV4dCA9IHN0ZXBzLm5leHQob3V0cHV0RWxlbWVudC5sYXN0UHJvbWlzZVZhbHVlKTsKICByZXR1cm4gUHJvbWlzZS5yZXNvbHZlKG5leHQudmFsdWUucHJvbWlzZSkudGhlbigodmFsdWUpID0+IHsKICAgIC8vIENhY2hlIHRoZSBsYXN0IHByb21pc2UgdmFsdWUgdG8gbWFrZSBpdCBhdmFpbGFibGUgdG8gdGhlIG5leHQKICAgIC8vIHN0ZXAgb2YgdGhlIGdlbmVyYXRvci4KICAgIG91dHB1dEVsZW1lbnQubGFzdFByb21pc2VWYWx1ZSA9IHZhbHVlOwogICAgcmV0dXJuIG5leHQudmFsdWUucmVzcG9uc2U7CiAgfSk7Cn0KCi8qKgogKiBHZW5lcmF0b3IgZnVuY3Rpb24gd2hpY2ggaXMgY2FsbGVkIGJldHdlZW4gZWFjaCBhc3luYyBzdGVwIG9mIHRoZSB1cGxvYWQKICogcHJvY2Vzcy4KICogQHBhcmFtIHtzdHJpbmd9IGlucHV0SWQgRWxlbWVudCBJRCBvZiB0aGUgaW5wdXQgZmlsZSBwaWNrZXIgZWxlbWVudC4KICogQHBhcmFtIHtzdHJpbmd9IG91dHB1dElkIEVsZW1lbnQgSUQgb2YgdGhlIG91dHB1dCBkaXNwbGF5LgogKiBAcmV0dXJuIHshSXRlcmFibGU8IU9iamVjdD59IEl0ZXJhYmxlIG9mIG5leHQgc3RlcHMuCiAqLwpmdW5jdGlvbiogdXBsb2FkRmlsZXNTdGVwKGlucHV0SWQsIG91dHB1dElkKSB7CiAgY29uc3QgaW5wdXRFbGVtZW50ID0gZG9jdW1lbnQuZ2V0RWxlbWVudEJ5SWQoaW5wdXRJZCk7CiAgaW5wdXRFbGVtZW50LmRpc2FibGVkID0gZmFsc2U7CgogIGNvbnN0IG91dHB1dEVsZW1lbnQgPSBkb2N1bWVudC5nZXRFbGVtZW50QnlJZChvdXRwdXRJZCk7CiAgb3V0cHV0RWxlbWVudC5pbm5lckhUTUwgPSAnJzsKCiAgY29uc3QgcGlja2VkUHJvbWlzZSA9IG5ldyBQcm9taXNlKChyZXNvbHZlKSA9PiB7CiAgICBpbnB1dEVsZW1lbnQuYWRkRXZlbnRMaXN0ZW5lcignY2hhbmdlJywgKGUpID0+IHsKICAgICAgcmVzb2x2ZShlLnRhcmdldC5maWxlcyk7CiAgICB9KTsKICB9KTsKCiAgY29uc3QgY2FuY2VsID0gZG9jdW1lbnQuY3JlYXRlRWxlbWVudCgnYnV0dG9uJyk7CiAgaW5wdXRFbGVtZW50LnBhcmVudEVsZW1lbnQuYXBwZW5kQ2hpbGQoY2FuY2VsKTsKICBjYW5jZWwudGV4dENvbnRlbnQgPSAnQ2FuY2VsIHVwbG9hZCc7CiAgY29uc3QgY2FuY2VsUHJvbWlzZSA9IG5ldyBQcm9taXNlKChyZXNvbHZlKSA9PiB7CiAgICBjYW5jZWwub25jbGljayA9ICgpID0+IHsKICAgICAgcmVzb2x2ZShudWxsKTsKICAgIH07CiAgfSk7CgogIC8vIENhbmNlbCB1cGxvYWQgaWYgdXNlciBoYXNuJ3QgcGlja2VkIGFueXRoaW5nIGluIHRpbWVvdXQuCiAgY29uc3QgdGltZW91dFByb21pc2UgPSBuZXcgUHJvbWlzZSgocmVzb2x2ZSkgPT4gewogICAgc2V0VGltZW91dCgoKSA9PiB7CiAgICAgIHJlc29sdmUobnVsbCk7CiAgICB9LCBGSUxFX0NIQU5HRV9USU1FT1VUX01TKTsKICB9KTsKCiAgLy8gV2FpdCBmb3IgdGhlIHVzZXIgdG8gcGljayB0aGUgZmlsZXMuCiAgY29uc3QgZmlsZXMgPSB5aWVsZCB7CiAgICBwcm9taXNlOiBQcm9taXNlLnJhY2UoW3BpY2tlZFByb21pc2UsIHRpbWVvdXRQcm9taXNlLCBjYW5jZWxQcm9taXNlXSksCiAgICByZXNwb25zZTogewogICAgICBhY3Rpb246ICdzdGFydGluZycsCiAgICB9CiAgfTsKCiAgaWYgKCFmaWxlcykgewogICAgcmV0dXJuIHsKICAgICAgcmVzcG9uc2U6IHsKICAgICAgICBhY3Rpb246ICdjb21wbGV0ZScsCiAgICAgIH0KICAgIH07CiAgfQoKICBjYW5jZWwucmVtb3ZlKCk7CgogIC8vIERpc2FibGUgdGhlIGlucHV0IGVsZW1lbnQgc2luY2UgZnVydGhlciBwaWNrcyBhcmUgbm90IGFsbG93ZWQuCiAgaW5wdXRFbGVtZW50LmRpc2FibGVkID0gdHJ1ZTsKCiAgZm9yIChjb25zdCBmaWxlIG9mIGZpbGVzKSB7CiAgICBjb25zdCBsaSA9IGRvY3VtZW50LmNyZWF0ZUVsZW1lbnQoJ2xpJyk7CiAgICBsaS5hcHBlbmQoc3BhbihmaWxlLm5hbWUsIHtmb250V2VpZ2h0OiAnYm9sZCd9KSk7CiAgICBsaS5hcHBlbmQoc3BhbigKICAgICAgICBgKCR7ZmlsZS50eXBlIHx8ICduL2EnfSkgLSAke2ZpbGUuc2l6ZX0gYnl0ZXMsIGAgKwogICAgICAgIGBsYXN0IG1vZGlmaWVkOiAkewogICAgICAgICAgICBmaWxlLmxhc3RNb2RpZmllZERhdGUgPyBmaWxlLmxhc3RNb2RpZmllZERhdGUudG9Mb2NhbGVEYXRlU3RyaW5nKCkgOgogICAgICAgICAgICAgICAgICAgICAgICAgICAgICAgICAgICAnbi9hJ30gLSBgKSk7CiAgICBjb25zdCBwZXJjZW50ID0gc3BhbignMCUgZG9uZScpOwogICAgbGkuYXBwZW5kQ2hpbGQocGVyY2VudCk7CgogICAgb3V0cHV0RWxlbWVudC5hcHBlbmRDaGlsZChsaSk7CgogICAgY29uc3QgZmlsZURhdGFQcm9taXNlID0gbmV3IFByb21pc2UoKHJlc29sdmUpID0+IHsKICAgICAgY29uc3QgcmVhZGVyID0gbmV3IEZpbGVSZWFkZXIoKTsKICAgICAgcmVhZGVyLm9ubG9hZCA9IChlKSA9PiB7CiAgICAgICAgcmVzb2x2ZShlLnRhcmdldC5yZXN1bHQpOwogICAgICB9OwogICAgICByZWFkZXIucmVhZEFzQXJyYXlCdWZmZXIoZmlsZSk7CiAgICB9KTsKICAgIC8vIFdhaXQgZm9yIHRoZSBkYXRhIHRvIGJlIHJlYWR5LgogICAgbGV0IGZpbGVEYXRhID0geWllbGQgewogICAgICBwcm9taXNlOiBmaWxlRGF0YVByb21pc2UsCiAgICAgIHJlc3BvbnNlOiB7CiAgICAgICAgYWN0aW9uOiAnY29udGludWUnLAogICAgICB9CiAgICB9OwoKICAgIC8vIFVzZSBhIGNodW5rZWQgc2VuZGluZyB0byBhdm9pZCBtZXNzYWdlIHNpemUgbGltaXRzLiBTZWUgYi82MjExNTY2MC4KICAgIGxldCBwb3NpdGlvbiA9IDA7CiAgICB3aGlsZSAocG9zaXRpb24gPCBmaWxlRGF0YS5ieXRlTGVuZ3RoKSB7CiAgICAgIGNvbnN0IGxlbmd0aCA9IE1hdGgubWluKGZpbGVEYXRhLmJ5dGVMZW5ndGggLSBwb3NpdGlvbiwgTUFYX1BBWUxPQURfU0laRSk7CiAgICAgIGNvbnN0IGNodW5rID0gbmV3IFVpbnQ4QXJyYXkoZmlsZURhdGEsIHBvc2l0aW9uLCBsZW5ndGgpOwogICAgICBwb3NpdGlvbiArPSBsZW5ndGg7CgogICAgICBjb25zdCBiYXNlNjQgPSBidG9hKFN0cmluZy5mcm9tQ2hhckNvZGUuYXBwbHkobnVsbCwgY2h1bmspKTsKICAgICAgeWllbGQgewogICAgICAgIHJlc3BvbnNlOiB7CiAgICAgICAgICBhY3Rpb246ICdhcHBlbmQnLAogICAgICAgICAgZmlsZTogZmlsZS5uYW1lLAogICAgICAgICAgZGF0YTogYmFzZTY0LAogICAgICAgIH0sCiAgICAgIH07CiAgICAgIHBlcmNlbnQudGV4dENvbnRlbnQgPQogICAgICAgICAgYCR7TWF0aC5yb3VuZCgocG9zaXRpb24gLyBmaWxlRGF0YS5ieXRlTGVuZ3RoKSAqIDEwMCl9JSBkb25lYDsKICAgIH0KICB9CgogIC8vIEFsbCBkb25lLgogIHlpZWxkIHsKICAgIHJlc3BvbnNlOiB7CiAgICAgIGFjdGlvbjogJ2NvbXBsZXRlJywKICAgIH0KICB9Owp9CgpzY29wZS5nb29nbGUgPSBzY29wZS5nb29nbGUgfHwge307CnNjb3BlLmdvb2dsZS5jb2xhYiA9IHNjb3BlLmdvb2dsZS5jb2xhYiB8fCB7fTsKc2NvcGUuZ29vZ2xlLmNvbGFiLl9maWxlcyA9IHsKICBfdXBsb2FkRmlsZXMsCiAgX3VwbG9hZEZpbGVzQ29udGludWUsCn07Cn0pKHNlbGYpOwo=",
       "headers": [
        [
         "content-type",
         "application/javascript"
        ]
       ],
       "ok": true,
       "status": 200,
       "status_text": ""
      }
     }
    },
    "colab_type": "code",
    "id": "AFjXTGcafcDA",
    "outputId": "5439ff55-d0cf-4f85-85ab-277a8d835311"
   },
   "outputs": [
    {
     "data": {
      "text/html": [
       "<div>\n",
       "<style scoped>\n",
       "    .dataframe tbody tr th:only-of-type {\n",
       "        vertical-align: middle;\n",
       "    }\n",
       "\n",
       "    .dataframe tbody tr th {\n",
       "        vertical-align: top;\n",
       "    }\n",
       "\n",
       "    .dataframe thead th {\n",
       "        text-align: right;\n",
       "    }\n",
       "</style>\n",
       "<table border=\"1\" class=\"dataframe\">\n",
       "  <thead>\n",
       "    <tr style=\"text-align: right;\">\n",
       "      <th></th>\n",
       "      <th>id</th>\n",
       "      <th>date_account_created</th>\n",
       "      <th>date_first_booking</th>\n",
       "      <th>gender</th>\n",
       "      <th>age</th>\n",
       "      <th>signup_method</th>\n",
       "      <th>language</th>\n",
       "      <th>affiliate_channel</th>\n",
       "      <th>affiliate_provider</th>\n",
       "      <th>first_affiliate_tracked</th>\n",
       "      <th>signup_app</th>\n",
       "      <th>first_device_type</th>\n",
       "      <th>first_browser</th>\n",
       "      <th>country_destination</th>\n",
       "    </tr>\n",
       "  </thead>\n",
       "  <tbody>\n",
       "    <tr>\n",
       "      <th>0</th>\n",
       "      <td>gxn3p5htnn</td>\n",
       "      <td>28/06/2010</td>\n",
       "      <td>NaN</td>\n",
       "      <td>-unknown-</td>\n",
       "      <td>NaN</td>\n",
       "      <td>facebook</td>\n",
       "      <td>en</td>\n",
       "      <td>direct</td>\n",
       "      <td>direct</td>\n",
       "      <td>untracked</td>\n",
       "      <td>Web</td>\n",
       "      <td>Mac Desktop</td>\n",
       "      <td>Chrome</td>\n",
       "      <td>NDF</td>\n",
       "    </tr>\n",
       "    <tr>\n",
       "      <th>1</th>\n",
       "      <td>820tgsjxq7</td>\n",
       "      <td>25/05/2011</td>\n",
       "      <td>NaN</td>\n",
       "      <td>MALE</td>\n",
       "      <td>38.0</td>\n",
       "      <td>facebook</td>\n",
       "      <td>en</td>\n",
       "      <td>seo</td>\n",
       "      <td>google</td>\n",
       "      <td>untracked</td>\n",
       "      <td>Web</td>\n",
       "      <td>Mac Desktop</td>\n",
       "      <td>Chrome</td>\n",
       "      <td>NDF</td>\n",
       "    </tr>\n",
       "    <tr>\n",
       "      <th>2</th>\n",
       "      <td>4ft3gnwmtx</td>\n",
       "      <td>28/09/2010</td>\n",
       "      <td>02/08/2010</td>\n",
       "      <td>FEMALE</td>\n",
       "      <td>56.0</td>\n",
       "      <td>basic</td>\n",
       "      <td>en</td>\n",
       "      <td>direct</td>\n",
       "      <td>direct</td>\n",
       "      <td>untracked</td>\n",
       "      <td>Web</td>\n",
       "      <td>Windows Desktop</td>\n",
       "      <td>IE</td>\n",
       "      <td>US</td>\n",
       "    </tr>\n",
       "    <tr>\n",
       "      <th>3</th>\n",
       "      <td>bjjt8pjhuk</td>\n",
       "      <td>05/12/2011</td>\n",
       "      <td>08/09/2012</td>\n",
       "      <td>FEMALE</td>\n",
       "      <td>42.0</td>\n",
       "      <td>facebook</td>\n",
       "      <td>en</td>\n",
       "      <td>direct</td>\n",
       "      <td>direct</td>\n",
       "      <td>untracked</td>\n",
       "      <td>Web</td>\n",
       "      <td>Mac Desktop</td>\n",
       "      <td>Firefox</td>\n",
       "      <td>other</td>\n",
       "    </tr>\n",
       "    <tr>\n",
       "      <th>4</th>\n",
       "      <td>87mebub9p4</td>\n",
       "      <td>14/09/2010</td>\n",
       "      <td>18/02/2010</td>\n",
       "      <td>-unknown-</td>\n",
       "      <td>41.0</td>\n",
       "      <td>basic</td>\n",
       "      <td>en</td>\n",
       "      <td>direct</td>\n",
       "      <td>direct</td>\n",
       "      <td>untracked</td>\n",
       "      <td>Web</td>\n",
       "      <td>Mac Desktop</td>\n",
       "      <td>Chrome</td>\n",
       "      <td>US</td>\n",
       "    </tr>\n",
       "    <tr>\n",
       "      <th>5</th>\n",
       "      <td>osr2jwljor</td>\n",
       "      <td>01/01/2010</td>\n",
       "      <td>02/01/2010</td>\n",
       "      <td>-unknown-</td>\n",
       "      <td>NaN</td>\n",
       "      <td>basic</td>\n",
       "      <td>en</td>\n",
       "      <td>other</td>\n",
       "      <td>other</td>\n",
       "      <td>omg</td>\n",
       "      <td>Web</td>\n",
       "      <td>Mac Desktop</td>\n",
       "      <td>Chrome</td>\n",
       "      <td>US</td>\n",
       "    </tr>\n",
       "    <tr>\n",
       "      <th>6</th>\n",
       "      <td>lsw9q7uk0j</td>\n",
       "      <td>02/01/2010</td>\n",
       "      <td>05/01/2010</td>\n",
       "      <td>FEMALE</td>\n",
       "      <td>46.0</td>\n",
       "      <td>basic</td>\n",
       "      <td>en</td>\n",
       "      <td>other</td>\n",
       "      <td>craigslist</td>\n",
       "      <td>untracked</td>\n",
       "      <td>Web</td>\n",
       "      <td>Mac Desktop</td>\n",
       "      <td>Safari</td>\n",
       "      <td>US</td>\n",
       "    </tr>\n",
       "    <tr>\n",
       "      <th>7</th>\n",
       "      <td>0d01nltbrs</td>\n",
       "      <td>03/01/2010</td>\n",
       "      <td>13/01/2010</td>\n",
       "      <td>FEMALE</td>\n",
       "      <td>47.0</td>\n",
       "      <td>basic</td>\n",
       "      <td>en</td>\n",
       "      <td>direct</td>\n",
       "      <td>direct</td>\n",
       "      <td>omg</td>\n",
       "      <td>Web</td>\n",
       "      <td>Mac Desktop</td>\n",
       "      <td>Safari</td>\n",
       "      <td>US</td>\n",
       "    </tr>\n",
       "    <tr>\n",
       "      <th>8</th>\n",
       "      <td>a1vcnhxeij</td>\n",
       "      <td>04/01/2010</td>\n",
       "      <td>29/07/2010</td>\n",
       "      <td>FEMALE</td>\n",
       "      <td>50.0</td>\n",
       "      <td>basic</td>\n",
       "      <td>en</td>\n",
       "      <td>other</td>\n",
       "      <td>craigslist</td>\n",
       "      <td>untracked</td>\n",
       "      <td>Web</td>\n",
       "      <td>Mac Desktop</td>\n",
       "      <td>Safari</td>\n",
       "      <td>US</td>\n",
       "    </tr>\n",
       "    <tr>\n",
       "      <th>9</th>\n",
       "      <td>6uh8zyj2gn</td>\n",
       "      <td>04/01/2010</td>\n",
       "      <td>04/01/2010</td>\n",
       "      <td>-unknown-</td>\n",
       "      <td>46.0</td>\n",
       "      <td>basic</td>\n",
       "      <td>en</td>\n",
       "      <td>other</td>\n",
       "      <td>craigslist</td>\n",
       "      <td>omg</td>\n",
       "      <td>Web</td>\n",
       "      <td>Mac Desktop</td>\n",
       "      <td>Firefox</td>\n",
       "      <td>US</td>\n",
       "    </tr>\n",
       "    <tr>\n",
       "      <th>10</th>\n",
       "      <td>yuuqmid2rp</td>\n",
       "      <td>04/01/2010</td>\n",
       "      <td>06/01/2010</td>\n",
       "      <td>FEMALE</td>\n",
       "      <td>36.0</td>\n",
       "      <td>basic</td>\n",
       "      <td>en</td>\n",
       "      <td>other</td>\n",
       "      <td>craigslist</td>\n",
       "      <td>untracked</td>\n",
       "      <td>Web</td>\n",
       "      <td>Mac Desktop</td>\n",
       "      <td>Firefox</td>\n",
       "      <td>US</td>\n",
       "    </tr>\n",
       "    <tr>\n",
       "      <th>11</th>\n",
       "      <td>om1ss59ys8</td>\n",
       "      <td>05/01/2010</td>\n",
       "      <td>NaN</td>\n",
       "      <td>FEMALE</td>\n",
       "      <td>47.0</td>\n",
       "      <td>basic</td>\n",
       "      <td>en</td>\n",
       "      <td>other</td>\n",
       "      <td>craigslist</td>\n",
       "      <td>untracked</td>\n",
       "      <td>Web</td>\n",
       "      <td>iPhone</td>\n",
       "      <td>-unknown-</td>\n",
       "      <td>NDF</td>\n",
       "    </tr>\n",
       "    <tr>\n",
       "      <th>12</th>\n",
       "      <td>k6np330cm1</td>\n",
       "      <td>05/01/2010</td>\n",
       "      <td>18/01/2010</td>\n",
       "      <td>-unknown-</td>\n",
       "      <td>NaN</td>\n",
       "      <td>basic</td>\n",
       "      <td>en</td>\n",
       "      <td>direct</td>\n",
       "      <td>direct</td>\n",
       "      <td>NaN</td>\n",
       "      <td>Web</td>\n",
       "      <td>Other/Unknown</td>\n",
       "      <td>-unknown-</td>\n",
       "      <td>FR</td>\n",
       "    </tr>\n",
       "    <tr>\n",
       "      <th>13</th>\n",
       "      <td>dy3rgx56cu</td>\n",
       "      <td>05/01/2010</td>\n",
       "      <td>NaN</td>\n",
       "      <td>FEMALE</td>\n",
       "      <td>37.0</td>\n",
       "      <td>basic</td>\n",
       "      <td>en</td>\n",
       "      <td>other</td>\n",
       "      <td>craigslist</td>\n",
       "      <td>linked</td>\n",
       "      <td>Web</td>\n",
       "      <td>Mac Desktop</td>\n",
       "      <td>Firefox</td>\n",
       "      <td>NDF</td>\n",
       "    </tr>\n",
       "    <tr>\n",
       "      <th>14</th>\n",
       "      <td>ju3h98ch3w</td>\n",
       "      <td>07/01/2010</td>\n",
       "      <td>NaN</td>\n",
       "      <td>FEMALE</td>\n",
       "      <td>36.0</td>\n",
       "      <td>basic</td>\n",
       "      <td>en</td>\n",
       "      <td>other</td>\n",
       "      <td>craigslist</td>\n",
       "      <td>untracked</td>\n",
       "      <td>Web</td>\n",
       "      <td>iPhone</td>\n",
       "      <td>Mobile Safari</td>\n",
       "      <td>NDF</td>\n",
       "    </tr>\n",
       "    <tr>\n",
       "      <th>15</th>\n",
       "      <td>v4d5rl22px</td>\n",
       "      <td>07/01/2010</td>\n",
       "      <td>08/01/2010</td>\n",
       "      <td>FEMALE</td>\n",
       "      <td>33.0</td>\n",
       "      <td>basic</td>\n",
       "      <td>en</td>\n",
       "      <td>direct</td>\n",
       "      <td>direct</td>\n",
       "      <td>untracked</td>\n",
       "      <td>Web</td>\n",
       "      <td>Windows Desktop</td>\n",
       "      <td>Chrome</td>\n",
       "      <td>CA</td>\n",
       "    </tr>\n",
       "    <tr>\n",
       "      <th>16</th>\n",
       "      <td>2dwbwkx056</td>\n",
       "      <td>07/01/2010</td>\n",
       "      <td>NaN</td>\n",
       "      <td>-unknown-</td>\n",
       "      <td>NaN</td>\n",
       "      <td>basic</td>\n",
       "      <td>en</td>\n",
       "      <td>other</td>\n",
       "      <td>craigslist</td>\n",
       "      <td>NaN</td>\n",
       "      <td>Web</td>\n",
       "      <td>Other/Unknown</td>\n",
       "      <td>-unknown-</td>\n",
       "      <td>NDF</td>\n",
       "    </tr>\n",
       "    <tr>\n",
       "      <th>17</th>\n",
       "      <td>frhre329au</td>\n",
       "      <td>07/01/2010</td>\n",
       "      <td>09/01/2010</td>\n",
       "      <td>-unknown-</td>\n",
       "      <td>31.0</td>\n",
       "      <td>basic</td>\n",
       "      <td>en</td>\n",
       "      <td>other</td>\n",
       "      <td>craigslist</td>\n",
       "      <td>NaN</td>\n",
       "      <td>Web</td>\n",
       "      <td>Other/Unknown</td>\n",
       "      <td>-unknown-</td>\n",
       "      <td>US</td>\n",
       "    </tr>\n",
       "    <tr>\n",
       "      <th>18</th>\n",
       "      <td>cxlg85pg1r</td>\n",
       "      <td>08/01/2010</td>\n",
       "      <td>NaN</td>\n",
       "      <td>-unknown-</td>\n",
       "      <td>NaN</td>\n",
       "      <td>basic</td>\n",
       "      <td>en</td>\n",
       "      <td>seo</td>\n",
       "      <td>facebook</td>\n",
       "      <td>NaN</td>\n",
       "      <td>Web</td>\n",
       "      <td>Other/Unknown</td>\n",
       "      <td>-unknown-</td>\n",
       "      <td>NDF</td>\n",
       "    </tr>\n",
       "    <tr>\n",
       "      <th>19</th>\n",
       "      <td>gdka1q5ktd</td>\n",
       "      <td>10/01/2010</td>\n",
       "      <td>10/01/2010</td>\n",
       "      <td>FEMALE</td>\n",
       "      <td>29.0</td>\n",
       "      <td>basic</td>\n",
       "      <td>en</td>\n",
       "      <td>direct</td>\n",
       "      <td>direct</td>\n",
       "      <td>untracked</td>\n",
       "      <td>Web</td>\n",
       "      <td>Mac Desktop</td>\n",
       "      <td>Chrome</td>\n",
       "      <td>FR</td>\n",
       "    </tr>\n",
       "    <tr>\n",
       "      <th>20</th>\n",
       "      <td>qdubonn3uk</td>\n",
       "      <td>10/01/2010</td>\n",
       "      <td>18/01/2010</td>\n",
       "      <td>-unknown-</td>\n",
       "      <td>NaN</td>\n",
       "      <td>basic</td>\n",
       "      <td>en</td>\n",
       "      <td>direct</td>\n",
       "      <td>direct</td>\n",
       "      <td>NaN</td>\n",
       "      <td>Web</td>\n",
       "      <td>Other/Unknown</td>\n",
       "      <td>-unknown-</td>\n",
       "      <td>US</td>\n",
       "    </tr>\n",
       "    <tr>\n",
       "      <th>21</th>\n",
       "      <td>qsibmuz9sx</td>\n",
       "      <td>10/01/2010</td>\n",
       "      <td>11/01/2010</td>\n",
       "      <td>MALE</td>\n",
       "      <td>30.0</td>\n",
       "      <td>basic</td>\n",
       "      <td>en</td>\n",
       "      <td>direct</td>\n",
       "      <td>direct</td>\n",
       "      <td>linked</td>\n",
       "      <td>Web</td>\n",
       "      <td>Mac Desktop</td>\n",
       "      <td>Chrome</td>\n",
       "      <td>US</td>\n",
       "    </tr>\n",
       "    <tr>\n",
       "      <th>22</th>\n",
       "      <td>80f7dwscrn</td>\n",
       "      <td>11/01/2010</td>\n",
       "      <td>11/01/2010</td>\n",
       "      <td>-unknown-</td>\n",
       "      <td>40.0</td>\n",
       "      <td>basic</td>\n",
       "      <td>en</td>\n",
       "      <td>seo</td>\n",
       "      <td>google</td>\n",
       "      <td>untracked</td>\n",
       "      <td>Web</td>\n",
       "      <td>iPhone</td>\n",
       "      <td>-unknown-</td>\n",
       "      <td>US</td>\n",
       "    </tr>\n",
       "    <tr>\n",
       "      <th>23</th>\n",
       "      <td>jha93x042q</td>\n",
       "      <td>11/01/2010</td>\n",
       "      <td>NaN</td>\n",
       "      <td>-unknown-</td>\n",
       "      <td>NaN</td>\n",
       "      <td>basic</td>\n",
       "      <td>en</td>\n",
       "      <td>other</td>\n",
       "      <td>craigslist</td>\n",
       "      <td>untracked</td>\n",
       "      <td>Web</td>\n",
       "      <td>Mac Desktop</td>\n",
       "      <td>Safari</td>\n",
       "      <td>NDF</td>\n",
       "    </tr>\n",
       "    <tr>\n",
       "      <th>24</th>\n",
       "      <td>7i49vnuav6</td>\n",
       "      <td>11/01/2010</td>\n",
       "      <td>NaN</td>\n",
       "      <td>FEMALE</td>\n",
       "      <td>40.0</td>\n",
       "      <td>basic</td>\n",
       "      <td>en</td>\n",
       "      <td>seo</td>\n",
       "      <td>google</td>\n",
       "      <td>untracked</td>\n",
       "      <td>Web</td>\n",
       "      <td>Mac Desktop</td>\n",
       "      <td>Firefox</td>\n",
       "      <td>NDF</td>\n",
       "    </tr>\n",
       "    <tr>\n",
       "      <th>25</th>\n",
       "      <td>al8bcetz0g</td>\n",
       "      <td>12/01/2010</td>\n",
       "      <td>15/01/2010</td>\n",
       "      <td>FEMALE</td>\n",
       "      <td>26.0</td>\n",
       "      <td>basic</td>\n",
       "      <td>en</td>\n",
       "      <td>other</td>\n",
       "      <td>craigslist</td>\n",
       "      <td>untracked</td>\n",
       "      <td>Web</td>\n",
       "      <td>Mac Desktop</td>\n",
       "      <td>Chrome</td>\n",
       "      <td>FR</td>\n",
       "    </tr>\n",
       "    <tr>\n",
       "      <th>26</th>\n",
       "      <td>bjg0m5otl3</td>\n",
       "      <td>12/01/2010</td>\n",
       "      <td>NaN</td>\n",
       "      <td>-unknown-</td>\n",
       "      <td>NaN</td>\n",
       "      <td>basic</td>\n",
       "      <td>en</td>\n",
       "      <td>other</td>\n",
       "      <td>other</td>\n",
       "      <td>untracked</td>\n",
       "      <td>Web</td>\n",
       "      <td>Other/Unknown</td>\n",
       "      <td>-unknown-</td>\n",
       "      <td>NDF</td>\n",
       "    </tr>\n",
       "    <tr>\n",
       "      <th>27</th>\n",
       "      <td>hfrl5gle36</td>\n",
       "      <td>12/01/2010</td>\n",
       "      <td>22/01/2010</td>\n",
       "      <td>FEMALE</td>\n",
       "      <td>32.0</td>\n",
       "      <td>basic</td>\n",
       "      <td>en</td>\n",
       "      <td>other</td>\n",
       "      <td>craigslist</td>\n",
       "      <td>untracked</td>\n",
       "      <td>Web</td>\n",
       "      <td>Desktop (Other)</td>\n",
       "      <td>Chrome</td>\n",
       "      <td>US</td>\n",
       "    </tr>\n",
       "    <tr>\n",
       "      <th>28</th>\n",
       "      <td>tp6x3md0n4</td>\n",
       "      <td>13/01/2010</td>\n",
       "      <td>13/01/2010</td>\n",
       "      <td>-unknown-</td>\n",
       "      <td>35.0</td>\n",
       "      <td>basic</td>\n",
       "      <td>en</td>\n",
       "      <td>direct</td>\n",
       "      <td>direct</td>\n",
       "      <td>NaN</td>\n",
       "      <td>Web</td>\n",
       "      <td>Other/Unknown</td>\n",
       "      <td>-unknown-</td>\n",
       "      <td>FR</td>\n",
       "    </tr>\n",
       "    <tr>\n",
       "      <th>29</th>\n",
       "      <td>hql77nu2lk</td>\n",
       "      <td>13/01/2010</td>\n",
       "      <td>19/01/2010</td>\n",
       "      <td>-unknown-</td>\n",
       "      <td>37.0</td>\n",
       "      <td>basic</td>\n",
       "      <td>en</td>\n",
       "      <td>direct</td>\n",
       "      <td>direct</td>\n",
       "      <td>untracked</td>\n",
       "      <td>Web</td>\n",
       "      <td>Android Tablet</td>\n",
       "      <td>-unknown-</td>\n",
       "      <td>US</td>\n",
       "    </tr>\n",
       "    <tr>\n",
       "      <th>...</th>\n",
       "      <td>...</td>\n",
       "      <td>...</td>\n",
       "      <td>...</td>\n",
       "      <td>...</td>\n",
       "      <td>...</td>\n",
       "      <td>...</td>\n",
       "      <td>...</td>\n",
       "      <td>...</td>\n",
       "      <td>...</td>\n",
       "      <td>...</td>\n",
       "      <td>...</td>\n",
       "      <td>...</td>\n",
       "      <td>...</td>\n",
       "      <td>...</td>\n",
       "    </tr>\n",
       "    <tr>\n",
       "      <th>213421</th>\n",
       "      <td>c98s3h7kgj</td>\n",
       "      <td>30/06/2014</td>\n",
       "      <td>NaN</td>\n",
       "      <td>-unknown-</td>\n",
       "      <td>NaN</td>\n",
       "      <td>basic</td>\n",
       "      <td>en</td>\n",
       "      <td>direct</td>\n",
       "      <td>direct</td>\n",
       "      <td>linked</td>\n",
       "      <td>Web</td>\n",
       "      <td>Mac Desktop</td>\n",
       "      <td>Firefox</td>\n",
       "      <td>NDF</td>\n",
       "    </tr>\n",
       "    <tr>\n",
       "      <th>213422</th>\n",
       "      <td>ytmpiwb8hj</td>\n",
       "      <td>30/06/2014</td>\n",
       "      <td>NaN</td>\n",
       "      <td>-unknown-</td>\n",
       "      <td>NaN</td>\n",
       "      <td>basic</td>\n",
       "      <td>en</td>\n",
       "      <td>direct</td>\n",
       "      <td>direct</td>\n",
       "      <td>untracked</td>\n",
       "      <td>Web</td>\n",
       "      <td>Windows Desktop</td>\n",
       "      <td>IE</td>\n",
       "      <td>NDF</td>\n",
       "    </tr>\n",
       "    <tr>\n",
       "      <th>213423</th>\n",
       "      <td>3dx1jk6yk2</td>\n",
       "      <td>30/06/2014</td>\n",
       "      <td>NaN</td>\n",
       "      <td>FEMALE</td>\n",
       "      <td>20.0</td>\n",
       "      <td>facebook</td>\n",
       "      <td>en</td>\n",
       "      <td>direct</td>\n",
       "      <td>direct</td>\n",
       "      <td>untracked</td>\n",
       "      <td>iOS</td>\n",
       "      <td>iPhone</td>\n",
       "      <td>-unknown-</td>\n",
       "      <td>NDF</td>\n",
       "    </tr>\n",
       "    <tr>\n",
       "      <th>213424</th>\n",
       "      <td>hcfj07iowv</td>\n",
       "      <td>30/06/2014</td>\n",
       "      <td>NaN</td>\n",
       "      <td>FEMALE</td>\n",
       "      <td>32.0</td>\n",
       "      <td>facebook</td>\n",
       "      <td>en</td>\n",
       "      <td>direct</td>\n",
       "      <td>direct</td>\n",
       "      <td>linked</td>\n",
       "      <td>Web</td>\n",
       "      <td>Windows Desktop</td>\n",
       "      <td>Chrome</td>\n",
       "      <td>NDF</td>\n",
       "    </tr>\n",
       "    <tr>\n",
       "      <th>213425</th>\n",
       "      <td>l1f71f9vsj</td>\n",
       "      <td>30/06/2014</td>\n",
       "      <td>NaN</td>\n",
       "      <td>FEMALE</td>\n",
       "      <td>30.0</td>\n",
       "      <td>facebook</td>\n",
       "      <td>en</td>\n",
       "      <td>direct</td>\n",
       "      <td>direct</td>\n",
       "      <td>linked</td>\n",
       "      <td>Web</td>\n",
       "      <td>Windows Desktop</td>\n",
       "      <td>Chrome</td>\n",
       "      <td>NDF</td>\n",
       "    </tr>\n",
       "    <tr>\n",
       "      <th>213426</th>\n",
       "      <td>15bj4ahmhf</td>\n",
       "      <td>30/06/2014</td>\n",
       "      <td>NaN</td>\n",
       "      <td>-unknown-</td>\n",
       "      <td>NaN</td>\n",
       "      <td>basic</td>\n",
       "      <td>en</td>\n",
       "      <td>direct</td>\n",
       "      <td>direct</td>\n",
       "      <td>untracked</td>\n",
       "      <td>Moweb</td>\n",
       "      <td>Android Phone</td>\n",
       "      <td>Chrome Mobile</td>\n",
       "      <td>NDF</td>\n",
       "    </tr>\n",
       "    <tr>\n",
       "      <th>213427</th>\n",
       "      <td>qwpybxfjdl</td>\n",
       "      <td>30/06/2014</td>\n",
       "      <td>NaN</td>\n",
       "      <td>-unknown-</td>\n",
       "      <td>NaN</td>\n",
       "      <td>basic</td>\n",
       "      <td>en</td>\n",
       "      <td>direct</td>\n",
       "      <td>direct</td>\n",
       "      <td>linked</td>\n",
       "      <td>Web</td>\n",
       "      <td>Desktop (Other)</td>\n",
       "      <td>Chrome</td>\n",
       "      <td>NDF</td>\n",
       "    </tr>\n",
       "    <tr>\n",
       "      <th>213428</th>\n",
       "      <td>k4t61wuvyq</td>\n",
       "      <td>30/06/2014</td>\n",
       "      <td>NaN</td>\n",
       "      <td>-unknown-</td>\n",
       "      <td>NaN</td>\n",
       "      <td>basic</td>\n",
       "      <td>en</td>\n",
       "      <td>direct</td>\n",
       "      <td>direct</td>\n",
       "      <td>untracked</td>\n",
       "      <td>Android</td>\n",
       "      <td>Android Phone</td>\n",
       "      <td>-unknown-</td>\n",
       "      <td>NDF</td>\n",
       "    </tr>\n",
       "    <tr>\n",
       "      <th>213429</th>\n",
       "      <td>mhh7b52z44</td>\n",
       "      <td>30/06/2014</td>\n",
       "      <td>NaN</td>\n",
       "      <td>-unknown-</td>\n",
       "      <td>NaN</td>\n",
       "      <td>basic</td>\n",
       "      <td>en</td>\n",
       "      <td>direct</td>\n",
       "      <td>direct</td>\n",
       "      <td>untracked</td>\n",
       "      <td>iOS</td>\n",
       "      <td>iPhone</td>\n",
       "      <td>-unknown-</td>\n",
       "      <td>NDF</td>\n",
       "    </tr>\n",
       "    <tr>\n",
       "      <th>213430</th>\n",
       "      <td>79wk7k2k5t</td>\n",
       "      <td>30/06/2014</td>\n",
       "      <td>NaN</td>\n",
       "      <td>-unknown-</td>\n",
       "      <td>19.0</td>\n",
       "      <td>basic</td>\n",
       "      <td>en</td>\n",
       "      <td>direct</td>\n",
       "      <td>direct</td>\n",
       "      <td>linked</td>\n",
       "      <td>Web</td>\n",
       "      <td>Mac Desktop</td>\n",
       "      <td>Chrome</td>\n",
       "      <td>NDF</td>\n",
       "    </tr>\n",
       "    <tr>\n",
       "      <th>213431</th>\n",
       "      <td>ftwmocvwlq</td>\n",
       "      <td>30/06/2014</td>\n",
       "      <td>NaN</td>\n",
       "      <td>-unknown-</td>\n",
       "      <td>NaN</td>\n",
       "      <td>basic</td>\n",
       "      <td>en</td>\n",
       "      <td>direct</td>\n",
       "      <td>direct</td>\n",
       "      <td>untracked</td>\n",
       "      <td>Web</td>\n",
       "      <td>Windows Desktop</td>\n",
       "      <td>Firefox</td>\n",
       "      <td>NDF</td>\n",
       "    </tr>\n",
       "    <tr>\n",
       "      <th>213432</th>\n",
       "      <td>rg7ayg1tob</td>\n",
       "      <td>30/06/2014</td>\n",
       "      <td>NaN</td>\n",
       "      <td>MALE</td>\n",
       "      <td>31.0</td>\n",
       "      <td>facebook</td>\n",
       "      <td>en</td>\n",
       "      <td>direct</td>\n",
       "      <td>direct</td>\n",
       "      <td>tracked-other</td>\n",
       "      <td>Web</td>\n",
       "      <td>Mac Desktop</td>\n",
       "      <td>Safari</td>\n",
       "      <td>NDF</td>\n",
       "    </tr>\n",
       "    <tr>\n",
       "      <th>213433</th>\n",
       "      <td>2f24umzkuv</td>\n",
       "      <td>30/06/2014</td>\n",
       "      <td>NaN</td>\n",
       "      <td>-unknown-</td>\n",
       "      <td>NaN</td>\n",
       "      <td>basic</td>\n",
       "      <td>en</td>\n",
       "      <td>sem-brand</td>\n",
       "      <td>google</td>\n",
       "      <td>untracked</td>\n",
       "      <td>Web</td>\n",
       "      <td>iPad</td>\n",
       "      <td>Mobile Safari</td>\n",
       "      <td>NDF</td>\n",
       "    </tr>\n",
       "    <tr>\n",
       "      <th>213434</th>\n",
       "      <td>or77n2ojuj</td>\n",
       "      <td>30/06/2014</td>\n",
       "      <td>NaN</td>\n",
       "      <td>-unknown-</td>\n",
       "      <td>NaN</td>\n",
       "      <td>basic</td>\n",
       "      <td>en</td>\n",
       "      <td>seo</td>\n",
       "      <td>facebook</td>\n",
       "      <td>product</td>\n",
       "      <td>Web</td>\n",
       "      <td>Mac Desktop</td>\n",
       "      <td>Chrome</td>\n",
       "      <td>NDF</td>\n",
       "    </tr>\n",
       "    <tr>\n",
       "      <th>213435</th>\n",
       "      <td>0a5bnb9bs4</td>\n",
       "      <td>30/06/2014</td>\n",
       "      <td>NaN</td>\n",
       "      <td>-unknown-</td>\n",
       "      <td>NaN</td>\n",
       "      <td>basic</td>\n",
       "      <td>en</td>\n",
       "      <td>seo</td>\n",
       "      <td>google</td>\n",
       "      <td>untracked</td>\n",
       "      <td>Web</td>\n",
       "      <td>Windows Desktop</td>\n",
       "      <td>Chrome</td>\n",
       "      <td>NDF</td>\n",
       "    </tr>\n",
       "    <tr>\n",
       "      <th>213436</th>\n",
       "      <td>6fzrn49sfn</td>\n",
       "      <td>30/06/2014</td>\n",
       "      <td>NaN</td>\n",
       "      <td>-unknown-</td>\n",
       "      <td>NaN</td>\n",
       "      <td>basic</td>\n",
       "      <td>en</td>\n",
       "      <td>direct</td>\n",
       "      <td>direct</td>\n",
       "      <td>untracked</td>\n",
       "      <td>iOS</td>\n",
       "      <td>iPhone</td>\n",
       "      <td>-unknown-</td>\n",
       "      <td>NDF</td>\n",
       "    </tr>\n",
       "    <tr>\n",
       "      <th>213437</th>\n",
       "      <td>r0jq0devgy</td>\n",
       "      <td>30/06/2014</td>\n",
       "      <td>NaN</td>\n",
       "      <td>-unknown-</td>\n",
       "      <td>NaN</td>\n",
       "      <td>basic</td>\n",
       "      <td>en</td>\n",
       "      <td>direct</td>\n",
       "      <td>direct</td>\n",
       "      <td>untracked</td>\n",
       "      <td>Android</td>\n",
       "      <td>Android Tablet</td>\n",
       "      <td>-unknown-</td>\n",
       "      <td>NDF</td>\n",
       "    </tr>\n",
       "    <tr>\n",
       "      <th>213438</th>\n",
       "      <td>v5lq9bj8gv</td>\n",
       "      <td>30/06/2014</td>\n",
       "      <td>NaN</td>\n",
       "      <td>-unknown-</td>\n",
       "      <td>NaN</td>\n",
       "      <td>basic</td>\n",
       "      <td>en</td>\n",
       "      <td>direct</td>\n",
       "      <td>direct</td>\n",
       "      <td>untracked</td>\n",
       "      <td>iOS</td>\n",
       "      <td>iPhone</td>\n",
       "      <td>-unknown-</td>\n",
       "      <td>NDF</td>\n",
       "    </tr>\n",
       "    <tr>\n",
       "      <th>213439</th>\n",
       "      <td>msucfwmlzc</td>\n",
       "      <td>30/06/2014</td>\n",
       "      <td>16/03/2015</td>\n",
       "      <td>MALE</td>\n",
       "      <td>43.0</td>\n",
       "      <td>basic</td>\n",
       "      <td>en</td>\n",
       "      <td>direct</td>\n",
       "      <td>direct</td>\n",
       "      <td>untracked</td>\n",
       "      <td>Web</td>\n",
       "      <td>Windows Desktop</td>\n",
       "      <td>Firefox</td>\n",
       "      <td>US</td>\n",
       "    </tr>\n",
       "    <tr>\n",
       "      <th>213440</th>\n",
       "      <td>04y8115avm</td>\n",
       "      <td>30/06/2014</td>\n",
       "      <td>NaN</td>\n",
       "      <td>FEMALE</td>\n",
       "      <td>24.0</td>\n",
       "      <td>basic</td>\n",
       "      <td>en</td>\n",
       "      <td>direct</td>\n",
       "      <td>direct</td>\n",
       "      <td>untracked</td>\n",
       "      <td>iOS</td>\n",
       "      <td>iPhone</td>\n",
       "      <td>Mobile Safari</td>\n",
       "      <td>NDF</td>\n",
       "    </tr>\n",
       "    <tr>\n",
       "      <th>213441</th>\n",
       "      <td>omlc9iku7t</td>\n",
       "      <td>30/06/2014</td>\n",
       "      <td>13/08/2014</td>\n",
       "      <td>FEMALE</td>\n",
       "      <td>34.0</td>\n",
       "      <td>basic</td>\n",
       "      <td>en</td>\n",
       "      <td>direct</td>\n",
       "      <td>direct</td>\n",
       "      <td>linked</td>\n",
       "      <td>Web</td>\n",
       "      <td>Mac Desktop</td>\n",
       "      <td>Chrome</td>\n",
       "      <td>ES</td>\n",
       "    </tr>\n",
       "    <tr>\n",
       "      <th>213442</th>\n",
       "      <td>rf0ay567js</td>\n",
       "      <td>30/06/2014</td>\n",
       "      <td>NaN</td>\n",
       "      <td>-unknown-</td>\n",
       "      <td>NaN</td>\n",
       "      <td>basic</td>\n",
       "      <td>en</td>\n",
       "      <td>sem-brand</td>\n",
       "      <td>google</td>\n",
       "      <td>omg</td>\n",
       "      <td>Web</td>\n",
       "      <td>Mac Desktop</td>\n",
       "      <td>Chrome</td>\n",
       "      <td>NDF</td>\n",
       "    </tr>\n",
       "    <tr>\n",
       "      <th>213443</th>\n",
       "      <td>0k26r3mir0</td>\n",
       "      <td>30/06/2014</td>\n",
       "      <td>13/07/2014</td>\n",
       "      <td>FEMALE</td>\n",
       "      <td>36.0</td>\n",
       "      <td>basic</td>\n",
       "      <td>en</td>\n",
       "      <td>sem-brand</td>\n",
       "      <td>google</td>\n",
       "      <td>linked</td>\n",
       "      <td>Web</td>\n",
       "      <td>Mac Desktop</td>\n",
       "      <td>Safari</td>\n",
       "      <td>US</td>\n",
       "    </tr>\n",
       "    <tr>\n",
       "      <th>213444</th>\n",
       "      <td>40o1ivh6cb</td>\n",
       "      <td>30/06/2014</td>\n",
       "      <td>NaN</td>\n",
       "      <td>-unknown-</td>\n",
       "      <td>NaN</td>\n",
       "      <td>basic</td>\n",
       "      <td>en</td>\n",
       "      <td>direct</td>\n",
       "      <td>direct</td>\n",
       "      <td>linked</td>\n",
       "      <td>Web</td>\n",
       "      <td>Windows Desktop</td>\n",
       "      <td>Chrome</td>\n",
       "      <td>NDF</td>\n",
       "    </tr>\n",
       "    <tr>\n",
       "      <th>213445</th>\n",
       "      <td>qbxza0xojf</td>\n",
       "      <td>30/06/2014</td>\n",
       "      <td>02/07/2014</td>\n",
       "      <td>FEMALE</td>\n",
       "      <td>23.0</td>\n",
       "      <td>basic</td>\n",
       "      <td>en</td>\n",
       "      <td>sem-brand</td>\n",
       "      <td>google</td>\n",
       "      <td>omg</td>\n",
       "      <td>Web</td>\n",
       "      <td>Windows Desktop</td>\n",
       "      <td>IE</td>\n",
       "      <td>US</td>\n",
       "    </tr>\n",
       "    <tr>\n",
       "      <th>213446</th>\n",
       "      <td>zxodksqpep</td>\n",
       "      <td>30/06/2014</td>\n",
       "      <td>NaN</td>\n",
       "      <td>MALE</td>\n",
       "      <td>32.0</td>\n",
       "      <td>basic</td>\n",
       "      <td>en</td>\n",
       "      <td>sem-brand</td>\n",
       "      <td>google</td>\n",
       "      <td>omg</td>\n",
       "      <td>Web</td>\n",
       "      <td>Mac Desktop</td>\n",
       "      <td>Safari</td>\n",
       "      <td>NDF</td>\n",
       "    </tr>\n",
       "    <tr>\n",
       "      <th>213447</th>\n",
       "      <td>mhewnxesx9</td>\n",
       "      <td>30/06/2014</td>\n",
       "      <td>NaN</td>\n",
       "      <td>-unknown-</td>\n",
       "      <td>NaN</td>\n",
       "      <td>basic</td>\n",
       "      <td>en</td>\n",
       "      <td>direct</td>\n",
       "      <td>direct</td>\n",
       "      <td>linked</td>\n",
       "      <td>Web</td>\n",
       "      <td>Windows Desktop</td>\n",
       "      <td>Chrome</td>\n",
       "      <td>NDF</td>\n",
       "    </tr>\n",
       "    <tr>\n",
       "      <th>213448</th>\n",
       "      <td>6o3arsjbb4</td>\n",
       "      <td>30/06/2014</td>\n",
       "      <td>NaN</td>\n",
       "      <td>-unknown-</td>\n",
       "      <td>32.0</td>\n",
       "      <td>basic</td>\n",
       "      <td>en</td>\n",
       "      <td>direct</td>\n",
       "      <td>direct</td>\n",
       "      <td>untracked</td>\n",
       "      <td>Web</td>\n",
       "      <td>Mac Desktop</td>\n",
       "      <td>Firefox</td>\n",
       "      <td>NDF</td>\n",
       "    </tr>\n",
       "    <tr>\n",
       "      <th>213449</th>\n",
       "      <td>jh95kwisub</td>\n",
       "      <td>30/06/2014</td>\n",
       "      <td>NaN</td>\n",
       "      <td>-unknown-</td>\n",
       "      <td>NaN</td>\n",
       "      <td>basic</td>\n",
       "      <td>en</td>\n",
       "      <td>other</td>\n",
       "      <td>other</td>\n",
       "      <td>tracked-other</td>\n",
       "      <td>iOS</td>\n",
       "      <td>iPhone</td>\n",
       "      <td>Mobile Safari</td>\n",
       "      <td>NDF</td>\n",
       "    </tr>\n",
       "    <tr>\n",
       "      <th>213450</th>\n",
       "      <td>nw9fwlyb5f</td>\n",
       "      <td>30/06/2014</td>\n",
       "      <td>NaN</td>\n",
       "      <td>-unknown-</td>\n",
       "      <td>NaN</td>\n",
       "      <td>basic</td>\n",
       "      <td>en</td>\n",
       "      <td>direct</td>\n",
       "      <td>direct</td>\n",
       "      <td>untracked</td>\n",
       "      <td>iOS</td>\n",
       "      <td>iPhone</td>\n",
       "      <td>-unknown-</td>\n",
       "      <td>NDF</td>\n",
       "    </tr>\n",
       "  </tbody>\n",
       "</table>\n",
       "<p>213451 rows × 14 columns</p>\n",
       "</div>"
      ],
      "text/plain": [
       "                id date_account_created date_first_booking     gender   age  \\\n",
       "0       gxn3p5htnn           28/06/2010                NaN  -unknown-   NaN   \n",
       "1       820tgsjxq7           25/05/2011                NaN       MALE  38.0   \n",
       "2       4ft3gnwmtx           28/09/2010         02/08/2010     FEMALE  56.0   \n",
       "3       bjjt8pjhuk           05/12/2011         08/09/2012     FEMALE  42.0   \n",
       "4       87mebub9p4           14/09/2010         18/02/2010  -unknown-  41.0   \n",
       "5       osr2jwljor           01/01/2010         02/01/2010  -unknown-   NaN   \n",
       "6       lsw9q7uk0j           02/01/2010         05/01/2010     FEMALE  46.0   \n",
       "7       0d01nltbrs           03/01/2010         13/01/2010     FEMALE  47.0   \n",
       "8       a1vcnhxeij           04/01/2010         29/07/2010     FEMALE  50.0   \n",
       "9       6uh8zyj2gn           04/01/2010         04/01/2010  -unknown-  46.0   \n",
       "10      yuuqmid2rp           04/01/2010         06/01/2010     FEMALE  36.0   \n",
       "11      om1ss59ys8           05/01/2010                NaN     FEMALE  47.0   \n",
       "12      k6np330cm1           05/01/2010         18/01/2010  -unknown-   NaN   \n",
       "13      dy3rgx56cu           05/01/2010                NaN     FEMALE  37.0   \n",
       "14      ju3h98ch3w           07/01/2010                NaN     FEMALE  36.0   \n",
       "15      v4d5rl22px           07/01/2010         08/01/2010     FEMALE  33.0   \n",
       "16      2dwbwkx056           07/01/2010                NaN  -unknown-   NaN   \n",
       "17      frhre329au           07/01/2010         09/01/2010  -unknown-  31.0   \n",
       "18      cxlg85pg1r           08/01/2010                NaN  -unknown-   NaN   \n",
       "19      gdka1q5ktd           10/01/2010         10/01/2010     FEMALE  29.0   \n",
       "20      qdubonn3uk           10/01/2010         18/01/2010  -unknown-   NaN   \n",
       "21      qsibmuz9sx           10/01/2010         11/01/2010       MALE  30.0   \n",
       "22      80f7dwscrn           11/01/2010         11/01/2010  -unknown-  40.0   \n",
       "23      jha93x042q           11/01/2010                NaN  -unknown-   NaN   \n",
       "24      7i49vnuav6           11/01/2010                NaN     FEMALE  40.0   \n",
       "25      al8bcetz0g           12/01/2010         15/01/2010     FEMALE  26.0   \n",
       "26      bjg0m5otl3           12/01/2010                NaN  -unknown-   NaN   \n",
       "27      hfrl5gle36           12/01/2010         22/01/2010     FEMALE  32.0   \n",
       "28      tp6x3md0n4           13/01/2010         13/01/2010  -unknown-  35.0   \n",
       "29      hql77nu2lk           13/01/2010         19/01/2010  -unknown-  37.0   \n",
       "...            ...                  ...                ...        ...   ...   \n",
       "213421  c98s3h7kgj           30/06/2014                NaN  -unknown-   NaN   \n",
       "213422  ytmpiwb8hj           30/06/2014                NaN  -unknown-   NaN   \n",
       "213423  3dx1jk6yk2           30/06/2014                NaN     FEMALE  20.0   \n",
       "213424  hcfj07iowv           30/06/2014                NaN     FEMALE  32.0   \n",
       "213425  l1f71f9vsj           30/06/2014                NaN     FEMALE  30.0   \n",
       "213426  15bj4ahmhf           30/06/2014                NaN  -unknown-   NaN   \n",
       "213427  qwpybxfjdl           30/06/2014                NaN  -unknown-   NaN   \n",
       "213428  k4t61wuvyq           30/06/2014                NaN  -unknown-   NaN   \n",
       "213429  mhh7b52z44           30/06/2014                NaN  -unknown-   NaN   \n",
       "213430  79wk7k2k5t           30/06/2014                NaN  -unknown-  19.0   \n",
       "213431  ftwmocvwlq           30/06/2014                NaN  -unknown-   NaN   \n",
       "213432  rg7ayg1tob           30/06/2014                NaN       MALE  31.0   \n",
       "213433  2f24umzkuv           30/06/2014                NaN  -unknown-   NaN   \n",
       "213434  or77n2ojuj           30/06/2014                NaN  -unknown-   NaN   \n",
       "213435  0a5bnb9bs4           30/06/2014                NaN  -unknown-   NaN   \n",
       "213436  6fzrn49sfn           30/06/2014                NaN  -unknown-   NaN   \n",
       "213437  r0jq0devgy           30/06/2014                NaN  -unknown-   NaN   \n",
       "213438  v5lq9bj8gv           30/06/2014                NaN  -unknown-   NaN   \n",
       "213439  msucfwmlzc           30/06/2014         16/03/2015       MALE  43.0   \n",
       "213440  04y8115avm           30/06/2014                NaN     FEMALE  24.0   \n",
       "213441  omlc9iku7t           30/06/2014         13/08/2014     FEMALE  34.0   \n",
       "213442  rf0ay567js           30/06/2014                NaN  -unknown-   NaN   \n",
       "213443  0k26r3mir0           30/06/2014         13/07/2014     FEMALE  36.0   \n",
       "213444  40o1ivh6cb           30/06/2014                NaN  -unknown-   NaN   \n",
       "213445  qbxza0xojf           30/06/2014         02/07/2014     FEMALE  23.0   \n",
       "213446  zxodksqpep           30/06/2014                NaN       MALE  32.0   \n",
       "213447  mhewnxesx9           30/06/2014                NaN  -unknown-   NaN   \n",
       "213448  6o3arsjbb4           30/06/2014                NaN  -unknown-  32.0   \n",
       "213449  jh95kwisub           30/06/2014                NaN  -unknown-   NaN   \n",
       "213450  nw9fwlyb5f           30/06/2014                NaN  -unknown-   NaN   \n",
       "\n",
       "       signup_method language affiliate_channel affiliate_provider  \\\n",
       "0           facebook       en            direct             direct   \n",
       "1           facebook       en               seo             google   \n",
       "2              basic       en            direct             direct   \n",
       "3           facebook       en            direct             direct   \n",
       "4              basic       en            direct             direct   \n",
       "5              basic       en             other              other   \n",
       "6              basic       en             other         craigslist   \n",
       "7              basic       en            direct             direct   \n",
       "8              basic       en             other         craigslist   \n",
       "9              basic       en             other         craigslist   \n",
       "10             basic       en             other         craigslist   \n",
       "11             basic       en             other         craigslist   \n",
       "12             basic       en            direct             direct   \n",
       "13             basic       en             other         craigslist   \n",
       "14             basic       en             other         craigslist   \n",
       "15             basic       en            direct             direct   \n",
       "16             basic       en             other         craigslist   \n",
       "17             basic       en             other         craigslist   \n",
       "18             basic       en               seo           facebook   \n",
       "19             basic       en            direct             direct   \n",
       "20             basic       en            direct             direct   \n",
       "21             basic       en            direct             direct   \n",
       "22             basic       en               seo             google   \n",
       "23             basic       en             other         craigslist   \n",
       "24             basic       en               seo             google   \n",
       "25             basic       en             other         craigslist   \n",
       "26             basic       en             other              other   \n",
       "27             basic       en             other         craigslist   \n",
       "28             basic       en            direct             direct   \n",
       "29             basic       en            direct             direct   \n",
       "...              ...      ...               ...                ...   \n",
       "213421         basic       en            direct             direct   \n",
       "213422         basic       en            direct             direct   \n",
       "213423      facebook       en            direct             direct   \n",
       "213424      facebook       en            direct             direct   \n",
       "213425      facebook       en            direct             direct   \n",
       "213426         basic       en            direct             direct   \n",
       "213427         basic       en            direct             direct   \n",
       "213428         basic       en            direct             direct   \n",
       "213429         basic       en            direct             direct   \n",
       "213430         basic       en            direct             direct   \n",
       "213431         basic       en            direct             direct   \n",
       "213432      facebook       en            direct             direct   \n",
       "213433         basic       en         sem-brand             google   \n",
       "213434         basic       en               seo           facebook   \n",
       "213435         basic       en               seo             google   \n",
       "213436         basic       en            direct             direct   \n",
       "213437         basic       en            direct             direct   \n",
       "213438         basic       en            direct             direct   \n",
       "213439         basic       en            direct             direct   \n",
       "213440         basic       en            direct             direct   \n",
       "213441         basic       en            direct             direct   \n",
       "213442         basic       en         sem-brand             google   \n",
       "213443         basic       en         sem-brand             google   \n",
       "213444         basic       en            direct             direct   \n",
       "213445         basic       en         sem-brand             google   \n",
       "213446         basic       en         sem-brand             google   \n",
       "213447         basic       en            direct             direct   \n",
       "213448         basic       en            direct             direct   \n",
       "213449         basic       en             other              other   \n",
       "213450         basic       en            direct             direct   \n",
       "\n",
       "       first_affiliate_tracked signup_app first_device_type  first_browser  \\\n",
       "0                    untracked        Web       Mac Desktop         Chrome   \n",
       "1                    untracked        Web       Mac Desktop         Chrome   \n",
       "2                    untracked        Web   Windows Desktop             IE   \n",
       "3                    untracked        Web       Mac Desktop        Firefox   \n",
       "4                    untracked        Web       Mac Desktop         Chrome   \n",
       "5                          omg        Web       Mac Desktop         Chrome   \n",
       "6                    untracked        Web       Mac Desktop         Safari   \n",
       "7                          omg        Web       Mac Desktop         Safari   \n",
       "8                    untracked        Web       Mac Desktop         Safari   \n",
       "9                          omg        Web       Mac Desktop        Firefox   \n",
       "10                   untracked        Web       Mac Desktop        Firefox   \n",
       "11                   untracked        Web            iPhone      -unknown-   \n",
       "12                         NaN        Web     Other/Unknown      -unknown-   \n",
       "13                      linked        Web       Mac Desktop        Firefox   \n",
       "14                   untracked        Web            iPhone  Mobile Safari   \n",
       "15                   untracked        Web   Windows Desktop         Chrome   \n",
       "16                         NaN        Web     Other/Unknown      -unknown-   \n",
       "17                         NaN        Web     Other/Unknown      -unknown-   \n",
       "18                         NaN        Web     Other/Unknown      -unknown-   \n",
       "19                   untracked        Web       Mac Desktop         Chrome   \n",
       "20                         NaN        Web     Other/Unknown      -unknown-   \n",
       "21                      linked        Web       Mac Desktop         Chrome   \n",
       "22                   untracked        Web            iPhone      -unknown-   \n",
       "23                   untracked        Web       Mac Desktop         Safari   \n",
       "24                   untracked        Web       Mac Desktop        Firefox   \n",
       "25                   untracked        Web       Mac Desktop         Chrome   \n",
       "26                   untracked        Web     Other/Unknown      -unknown-   \n",
       "27                   untracked        Web   Desktop (Other)         Chrome   \n",
       "28                         NaN        Web     Other/Unknown      -unknown-   \n",
       "29                   untracked        Web    Android Tablet      -unknown-   \n",
       "...                        ...        ...               ...            ...   \n",
       "213421                  linked        Web       Mac Desktop        Firefox   \n",
       "213422               untracked        Web   Windows Desktop             IE   \n",
       "213423               untracked        iOS            iPhone      -unknown-   \n",
       "213424                  linked        Web   Windows Desktop         Chrome   \n",
       "213425                  linked        Web   Windows Desktop         Chrome   \n",
       "213426               untracked      Moweb     Android Phone  Chrome Mobile   \n",
       "213427                  linked        Web   Desktop (Other)         Chrome   \n",
       "213428               untracked    Android     Android Phone      -unknown-   \n",
       "213429               untracked        iOS            iPhone      -unknown-   \n",
       "213430                  linked        Web       Mac Desktop         Chrome   \n",
       "213431               untracked        Web   Windows Desktop        Firefox   \n",
       "213432           tracked-other        Web       Mac Desktop         Safari   \n",
       "213433               untracked        Web              iPad  Mobile Safari   \n",
       "213434                 product        Web       Mac Desktop         Chrome   \n",
       "213435               untracked        Web   Windows Desktop         Chrome   \n",
       "213436               untracked        iOS            iPhone      -unknown-   \n",
       "213437               untracked    Android    Android Tablet      -unknown-   \n",
       "213438               untracked        iOS            iPhone      -unknown-   \n",
       "213439               untracked        Web   Windows Desktop        Firefox   \n",
       "213440               untracked        iOS            iPhone  Mobile Safari   \n",
       "213441                  linked        Web       Mac Desktop         Chrome   \n",
       "213442                     omg        Web       Mac Desktop         Chrome   \n",
       "213443                  linked        Web       Mac Desktop         Safari   \n",
       "213444                  linked        Web   Windows Desktop         Chrome   \n",
       "213445                     omg        Web   Windows Desktop             IE   \n",
       "213446                     omg        Web       Mac Desktop         Safari   \n",
       "213447                  linked        Web   Windows Desktop         Chrome   \n",
       "213448               untracked        Web       Mac Desktop        Firefox   \n",
       "213449           tracked-other        iOS            iPhone  Mobile Safari   \n",
       "213450               untracked        iOS            iPhone      -unknown-   \n",
       "\n",
       "       country_destination  \n",
       "0                      NDF  \n",
       "1                      NDF  \n",
       "2                       US  \n",
       "3                    other  \n",
       "4                       US  \n",
       "5                       US  \n",
       "6                       US  \n",
       "7                       US  \n",
       "8                       US  \n",
       "9                       US  \n",
       "10                      US  \n",
       "11                     NDF  \n",
       "12                      FR  \n",
       "13                     NDF  \n",
       "14                     NDF  \n",
       "15                      CA  \n",
       "16                     NDF  \n",
       "17                      US  \n",
       "18                     NDF  \n",
       "19                      FR  \n",
       "20                      US  \n",
       "21                      US  \n",
       "22                      US  \n",
       "23                     NDF  \n",
       "24                     NDF  \n",
       "25                      FR  \n",
       "26                     NDF  \n",
       "27                      US  \n",
       "28                      FR  \n",
       "29                      US  \n",
       "...                    ...  \n",
       "213421                 NDF  \n",
       "213422                 NDF  \n",
       "213423                 NDF  \n",
       "213424                 NDF  \n",
       "213425                 NDF  \n",
       "213426                 NDF  \n",
       "213427                 NDF  \n",
       "213428                 NDF  \n",
       "213429                 NDF  \n",
       "213430                 NDF  \n",
       "213431                 NDF  \n",
       "213432                 NDF  \n",
       "213433                 NDF  \n",
       "213434                 NDF  \n",
       "213435                 NDF  \n",
       "213436                 NDF  \n",
       "213437                 NDF  \n",
       "213438                 NDF  \n",
       "213439                  US  \n",
       "213440                 NDF  \n",
       "213441                  ES  \n",
       "213442                 NDF  \n",
       "213443                  US  \n",
       "213444                 NDF  \n",
       "213445                  US  \n",
       "213446                 NDF  \n",
       "213447                 NDF  \n",
       "213448                 NDF  \n",
       "213449                 NDF  \n",
       "213450                 NDF  \n",
       "\n",
       "[213451 rows x 14 columns]"
      ]
     },
     "execution_count": 2,
     "metadata": {},
     "output_type": "execute_result"
    }
   ],
   "source": [
    "dataset = pd.read_csv(\"train_user.csv\", sep =';')\n",
    "dataset"
   ]
  },
  {
   "cell_type": "markdown",
   "metadata": {
    "colab_type": "text",
    "id": "47gfLvvjesNi"
   },
   "source": [
    "So we have 87,990 NaN for the 'age' column.\n",
    "  "
   ]
  },
  {
   "cell_type": "code",
   "execution_count": 3,
   "metadata": {
    "colab": {
     "base_uri": "https://localhost:8080/",
     "height": 286
    },
    "colab_type": "code",
    "id": "MScj_XfyesNk",
    "outputId": "06aaba39-8945-4a7e-a461-8d3d9cbf85a5"
   },
   "outputs": [
    {
     "name": "stdout",
     "output_type": "stream",
     "text": [
      "<class 'pandas.core.frame.DataFrame'>\n",
      "RangeIndex: 213451 entries, 0 to 213450\n",
      "Data columns (total 14 columns):\n",
      "id                         213451 non-null object\n",
      "date_account_created       213451 non-null object\n",
      "date_first_booking         88908 non-null object\n",
      "gender                     213451 non-null object\n",
      "age                        125461 non-null float64\n",
      "signup_method              213451 non-null object\n",
      "language                   213451 non-null object\n",
      "affiliate_channel          213451 non-null object\n",
      "affiliate_provider         213451 non-null object\n",
      "first_affiliate_tracked    207386 non-null object\n",
      "signup_app                 213451 non-null object\n",
      "first_device_type          213451 non-null object\n",
      "first_browser              213451 non-null object\n",
      "country_destination        213451 non-null object\n",
      "dtypes: float64(1), object(13)\n",
      "memory usage: 22.8+ MB\n"
     ]
    }
   ],
   "source": [
    "dataset.info()"
   ]
  },
  {
   "cell_type": "code",
   "execution_count": 4,
   "metadata": {
    "colab": {
     "base_uri": "https://localhost:8080/",
     "height": 218
    },
    "colab_type": "code",
    "id": "GJEtTzyvesNa",
    "outputId": "16d45cd9-ba2d-484d-b035-299f48b38eb0"
   },
   "outputs": [
    {
     "data": {
      "text/plain": [
       "id                              0\n",
       "date_account_created            0\n",
       "date_first_booking         124543\n",
       "gender                          0\n",
       "age                         87990\n",
       "signup_method                   0\n",
       "language                        0\n",
       "affiliate_channel               0\n",
       "affiliate_provider              0\n",
       "first_affiliate_tracked      6065\n",
       "signup_app                      0\n",
       "first_device_type               0\n",
       "first_browser                   0\n",
       "country_destination             0\n",
       "dtype: int64"
      ]
     },
     "execution_count": 4,
     "metadata": {},
     "output_type": "execute_result"
    }
   ],
   "source": [
    "dataset.isnull().sum() # allows us to know how many elements are NaN"
   ]
  },
  {
   "cell_type": "markdown",
   "metadata": {},
   "source": [
    "Let's visualize our NaN values."
   ]
  },
  {
   "cell_type": "code",
   "execution_count": 5,
   "metadata": {},
   "outputs": [
    {
     "data": {
      "text/plain": [
       "<matplotlib.axes._subplots.AxesSubplot at 0x1a70d4e2b70>"
      ]
     },
     "execution_count": 5,
     "metadata": {},
     "output_type": "execute_result"
    },
    {
     "data": {
      "image/png": "[encoded data removed]",
      "text/plain": [
       "<Figure size 1800x720 with 2 Axes>"
      ]
     },
     "metadata": {
      "needs_background": "light"
     },
     "output_type": "display_data"
    }
   ],
   "source": [
    "msno.matrix(dataset)"
   ]
  },
  {
   "cell_type": "code",
   "execution_count": 6,
   "metadata": {},
   "outputs": [
    {
     "data": {
      "text/plain": [
       "<matplotlib.axes._subplots.AxesSubplot at 0x1a70d563ac8>"
      ]
     },
     "execution_count": 6,
     "metadata": {},
     "output_type": "execute_result"
    },
    {
     "data": {
      "image/png": "[encoded data removed]",
      "text/plain": [
       "<Figure size 1440x864 with 1 Axes>"
      ]
     },
     "metadata": {
      "needs_background": "light"
     },
     "output_type": "display_data"
    }
   ],
   "source": [
    "msno.heatmap(dataset)"
   ]
  },
  {
   "cell_type": "markdown",
   "metadata": {
    "colab_type": "text",
    "id": "iAKIGUsA_Typ"
   },
   "source": [
    "# Data Exploration"
   ]
  },
  {
   "cell_type": "markdown",
   "metadata": {
    "colab_type": "text",
    "id": "wHOmi1mMesNs"
   },
   "source": [
    "## _I - Age Study_"
   ]
  },
  {
   "cell_type": "markdown",
   "metadata": {
    "colab_type": "text",
    "id": "LwQWrreLesNu"
   },
   "source": [
    "So let's examine the age."
   ]
  },
  {
   "cell_type": "code",
   "execution_count": 7,
   "metadata": {
    "colab": {
     "base_uri": "https://localhost:8080/",
     "height": 283
    },
    "colab_type": "code",
    "id": "OazbgdEZesNw",
    "outputId": "d53e0525-625a-4817-e897-c3a4c6dd691d"
   },
   "outputs": [
    {
     "data": {
      "image/png": "[encoded data removed]",
      "text/plain": [
       "<Figure size 432x288 with 1 Axes>"
      ]
     },
     "metadata": {
      "needs_background": "light"
     },
     "output_type": "display_data"
    }
   ],
   "source": [
    "dataset['age'] = dataset['age'].dropna()\n",
    "\n",
    "age_dis = sns.countplot(dataset['age'])\n",
    "\n",
    "for x, label in enumerate(age_dis.get_xticklabels()): # make it easier to read\n",
    "    if x % 30 == 0:\n",
    "        label.set_visible(True)\n",
    "    else:\n",
    "        label.set_visible(False)"
   ]
  },
  {
   "cell_type": "markdown",
   "metadata": {
    "colab_type": "text",
    "id": "FfFfAo78esN4"
   },
   "source": [
    "We notice that there are outliers close to 1 and over 100.\n",
    "\n",
    "Let's see now a descrption of our column: age."
   ]
  },
  {
   "cell_type": "code",
   "execution_count": 8,
   "metadata": {
    "colab": {
     "base_uri": "https://localhost:8080/",
     "height": 168
    },
    "colab_type": "code",
    "id": "z4cGuY0WesN6",
    "outputId": "60c2f23a-0636-4d94-c78d-259a71c09143"
   },
   "outputs": [
    {
     "data": {
      "text/plain": [
       "count    125461.000000\n",
       "mean         49.668335\n",
       "std         155.666612\n",
       "min           1.000000\n",
       "25%          28.000000\n",
       "50%          34.000000\n",
       "75%          43.000000\n",
       "max        2014.000000\n",
       "Name: age, dtype: float64"
      ]
     },
     "execution_count": 8,
     "metadata": {},
     "output_type": "execute_result"
    }
   ],
   "source": [
    "dataset['age'].describe()"
   ]
  },
  {
   "cell_type": "markdown",
   "metadata": {
    "colab_type": "text",
    "id": "hivIPHfSesOI"
   },
   "source": [
    "There are clearly outliers, so we'll now transform our outliers to NaN."
   ]
  },
  {
   "cell_type": "code",
   "execution_count": 9,
   "metadata": {
    "colab": {},
    "colab_type": "code",
    "id": "Dh5tlcy-esOK"
   },
   "outputs": [
    {
     "data": {
      "text/plain": [
       "0          NaN\n",
       "1         38.0\n",
       "2         56.0\n",
       "3         42.0\n",
       "4         41.0\n",
       "5          NaN\n",
       "6         46.0\n",
       "7         47.0\n",
       "8         50.0\n",
       "9         46.0\n",
       "10        36.0\n",
       "11        47.0\n",
       "12         NaN\n",
       "13        37.0\n",
       "14        36.0\n",
       "15        33.0\n",
       "16         NaN\n",
       "17        31.0\n",
       "18         NaN\n",
       "19        29.0\n",
       "20         NaN\n",
       "21        30.0\n",
       "22        40.0\n",
       "23         NaN\n",
       "24        40.0\n",
       "25        26.0\n",
       "26         NaN\n",
       "27        32.0\n",
       "28        35.0\n",
       "29        37.0\n",
       "          ... \n",
       "213421     NaN\n",
       "213422     NaN\n",
       "213423    20.0\n",
       "213424    32.0\n",
       "213425    30.0\n",
       "213426     NaN\n",
       "213427     NaN\n",
       "213428     NaN\n",
       "213429     NaN\n",
       "213430    19.0\n",
       "213431     NaN\n",
       "213432    31.0\n",
       "213433     NaN\n",
       "213434     NaN\n",
       "213435     NaN\n",
       "213436     NaN\n",
       "213437     NaN\n",
       "213438     NaN\n",
       "213439    43.0\n",
       "213440    24.0\n",
       "213441    34.0\n",
       "213442     NaN\n",
       "213443    36.0\n",
       "213444     NaN\n",
       "213445    23.0\n",
       "213446    32.0\n",
       "213447     NaN\n",
       "213448    32.0\n",
       "213449     NaN\n",
       "213450     NaN\n",
       "Name: age, Length: 213451, dtype: float64"
      ]
     },
     "execution_count": 9,
     "metadata": {},
     "output_type": "execute_result"
    }
   ],
   "source": [
    "dataset.loc[dataset['age'] < 15, 'age'] = np.NaN #.loc allows us to access a group of rows and columns by label\n",
    "dataset.loc[dataset['age'] > 90, 'age'] = np.NaN\n",
    "dataset['age']"
   ]
  },
  {
   "cell_type": "code",
   "execution_count": 10,
   "metadata": {
    "colab": {
     "base_uri": "https://localhost:8080/",
     "height": 1058
    },
    "colab_type": "code",
    "id": "f2TciKjtesOY",
    "outputId": "458bb9a8-d053-4359-dc51-1305b1814899",
    "scrolled": true
   },
   "outputs": [
    {
     "data": {
      "text/plain": [
       "0         OTHER\n",
       "1            38\n",
       "2            56\n",
       "3            42\n",
       "4            41\n",
       "5         OTHER\n",
       "6            46\n",
       "7            47\n",
       "8            50\n",
       "9            46\n",
       "10           36\n",
       "11           47\n",
       "12        OTHER\n",
       "13           37\n",
       "14           36\n",
       "15           33\n",
       "16        OTHER\n",
       "17           31\n",
       "18        OTHER\n",
       "19           29\n",
       "20        OTHER\n",
       "21           30\n",
       "22           40\n",
       "23        OTHER\n",
       "24           40\n",
       "25           26\n",
       "26        OTHER\n",
       "27           32\n",
       "28           35\n",
       "29           37\n",
       "          ...  \n",
       "213421    OTHER\n",
       "213422    OTHER\n",
       "213423       20\n",
       "213424       32\n",
       "213425       30\n",
       "213426    OTHER\n",
       "213427    OTHER\n",
       "213428    OTHER\n",
       "213429    OTHER\n",
       "213430       19\n",
       "213431    OTHER\n",
       "213432       31\n",
       "213433    OTHER\n",
       "213434    OTHER\n",
       "213435    OTHER\n",
       "213436    OTHER\n",
       "213437    OTHER\n",
       "213438    OTHER\n",
       "213439       43\n",
       "213440       24\n",
       "213441       34\n",
       "213442    OTHER\n",
       "213443       36\n",
       "213444    OTHER\n",
       "213445       23\n",
       "213446       32\n",
       "213447    OTHER\n",
       "213448       32\n",
       "213449    OTHER\n",
       "213450    OTHER\n",
       "Name: age, Length: 213451, dtype: object"
      ]
     },
     "execution_count": 10,
     "metadata": {},
     "output_type": "execute_result"
    }
   ],
   "source": [
    "dataset['age'].replace(np.NaN, \"OTHER\") # we replace null values by the category 'other'"
   ]
  },
  {
   "cell_type": "code",
   "execution_count": 11,
   "metadata": {
    "colab": {
     "base_uri": "https://localhost:8080/",
     "height": 283
    },
    "colab_type": "code",
    "id": "JYpSHXhIesOg",
    "outputId": "61961066-ff58-4907-c276-db6144d54a68"
   },
   "outputs": [
    {
     "data": {
      "image/png": "[encoded data removed]",
      "text/plain": [
       "<Figure size 432x288 with 1 Axes>"
      ]
     },
     "metadata": {
      "needs_background": "light"
     },
     "output_type": "display_data"
    }
   ],
   "source": [
    "age_dis = sns.countplot(dataset['age'])\n",
    "\n",
    "for x, label in enumerate(age_dis.get_xticklabels()): # made it easier to read\n",
    "    if x % 30 == 0:\n",
    "        label.set_visible(True)\n",
    "    else:\n",
    "        label.set_visible(False)"
   ]
  },
  {
   "cell_type": "markdown",
   "metadata": {
    "colab_type": "text",
    "id": "Ek-wi7wHesOt"
   },
   "source": [
    "We finally obtain a histogram without outliers."
   ]
  },
  {
   "cell_type": "code",
   "execution_count": 12,
   "metadata": {
    "colab": {
     "base_uri": "https://localhost:8080/",
     "height": 778
    },
    "colab_type": "code",
    "id": "kUEJGnVQesOv",
    "outputId": "fb3de362-cedd-4dd3-c016-c2853c587757",
    "scrolled": false
   },
   "outputs": [
    {
     "data": {
      "text/plain": [
       "<seaborn.axisgrid.FacetGrid at 0x1a70e55ecf8>"
      ]
     },
     "execution_count": 12,
     "metadata": {},
     "output_type": "execute_result"
    },
    {
     "data": {
      "image/png": "[encoded data removed]",
      "text/plain": [
       "<Figure size 1440x720 with 1 Axes>"
      ]
     },
     "metadata": {
      "needs_background": "light"
     },
     "output_type": "display_data"
    }
   ],
   "source": [
    "ages = dataset['age'].value_counts() / dataset.shape[0] * 100\n",
    "ages_df = pd.DataFrame()\n",
    "ages_df['age'] = ages.index\n",
    "ages_df['count'] = ages.values\n",
    "\n",
    "dataset['age'] = dataset['age'].astype(str)\n",
    "\n",
    "data_ages = sns.catplot(x='age', y='count', kind='bar', data=ages_df, aspect=2, height=10)\n",
    "\n",
    "data_ages.set_xticklabels(rotation=90) # allows us to see clearly the y-axis"
   ]
  },
  {
   "cell_type": "markdown",
   "metadata": {},
   "source": [
    "We're going to replace NaN values by median values."
   ]
  },
  {
   "cell_type": "code",
   "execution_count": 46,
   "metadata": {},
   "outputs": [],
   "source": [
    "from sklearn.impute import SimpleImputer\n",
    "imputer = SimpleImputer(missing_values = np.nan, strategy = \"median\")"
   ]
  },
  {
   "cell_type": "code",
   "execution_count": 53,
   "metadata": {},
   "outputs": [
    {
     "data": {
      "text/plain": [
       "array([['nan'],\n",
       "       ['38.0'],\n",
       "       ['56.0'],\n",
       "       ...,\n",
       "       ['32.0'],\n",
       "       ['nan'],\n",
       "       ['nan']], dtype=object)"
      ]
     },
     "execution_count": 53,
     "metadata": {},
     "output_type": "execute_result"
    }
   ],
   "source": [
    "a = np.array(dataset['age']).reshape(-1, 1)\n",
    "a"
   ]
  },
  {
   "cell_type": "code",
   "execution_count": 54,
   "metadata": {},
   "outputs": [],
   "source": [
    "imputer = imputer.fit(a)"
   ]
  },
  {
   "cell_type": "code",
   "execution_count": 55,
   "metadata": {},
   "outputs": [],
   "source": [
    "dataset['age'] = imputer.transform(a)"
   ]
  },
  {
   "cell_type": "code",
   "execution_count": 56,
   "metadata": {},
   "outputs": [
    {
     "data": {
      "text/plain": [
       "count    213451.000000\n",
       "mean         34.993746\n",
       "std           8.857844\n",
       "min          15.000000\n",
       "25%          32.000000\n",
       "50%          33.000000\n",
       "75%          35.000000\n",
       "max          90.000000\n",
       "Name: age, dtype: float64"
      ]
     },
     "execution_count": 56,
     "metadata": {},
     "output_type": "execute_result"
    }
   ],
   "source": [
    "dataset['age'].describe()"
   ]
  },
  {
   "cell_type": "markdown",
   "metadata": {
    "colab_type": "text",
    "id": "1xb_Y75eesO3"
   },
   "source": [
    "We're displaying all our values with the nan one that represents all of our nan and outliers combined."
   ]
  },
  {
   "cell_type": "markdown",
   "metadata": {
    "colab_type": "text",
    "id": "FGteQDvHesO5"
   },
   "source": [
    "## _II - Country Destination Study_"
   ]
  },
  {
   "cell_type": "markdown",
   "metadata": {
    "colab_type": "text",
    "id": "oiJ0LObyesO6"
   },
   "source": [
    "First of all, we are going to check all possible destinations."
   ]
  },
  {
   "cell_type": "code",
   "execution_count": 13,
   "metadata": {
    "colab": {
     "base_uri": "https://localhost:8080/",
     "height": 50
    },
    "colab_type": "code",
    "id": "k-yHgZEHesO-",
    "outputId": "1a35040b-d65b-4a68-fa5b-560802938c8f"
   },
   "outputs": [
    {
     "data": {
      "text/plain": [
       "array(['NDF', 'US', 'other', 'FR', 'CA', 'GB', 'ES', 'IT', 'PT', 'NL',\n",
       "       'DE', 'AU'], dtype=object)"
      ]
     },
     "execution_count": 13,
     "metadata": {},
     "output_type": "execute_result"
    }
   ],
   "source": [
    "dataset['country_destination'].unique()"
   ]
  },
  {
   "cell_type": "markdown",
   "metadata": {
    "colab_type": "text",
    "id": "6Np2rG5kesPF"
   },
   "source": [
    "Now we're going to plot the country of destination."
   ]
  },
  {
   "cell_type": "code",
   "execution_count": 14,
   "metadata": {
    "colab": {
     "base_uri": "https://localhost:8080/",
     "height": 313
    },
    "colab_type": "code",
    "id": "OLFZGT6tesPH",
    "outputId": "c0e5f11d-cc65-46bb-bcf4-b175bd45e594"
   },
   "outputs": [
    {
     "data": {
      "text/plain": [
       "<matplotlib.axes._subplots.AxesSubplot at 0x1a715472f60>"
      ]
     },
     "execution_count": 14,
     "metadata": {},
     "output_type": "execute_result"
    },
    {
     "data": {
      "image/png": "[encoded data removed]",
      "text/plain": [
       "<Figure size 432x288 with 1 Axes>"
      ]
     },
     "metadata": {
      "needs_background": "light"
     },
     "output_type": "display_data"
    }
   ],
   "source": [
    "country = dataset['country_destination'].value_counts() / dataset.shape[0] * 100\n",
    "country_df = pd.DataFrame()\n",
    "country_df['country_destination'] = country.index\n",
    "country_df['count'] = country.values\n",
    "\n",
    "plt.title(\"Country histogram\")\n",
    "\n",
    "sns.barplot(x='country_destination', y='count', data=country_df)"
   ]
  },
  {
   "cell_type": "code",
   "execution_count": 15,
   "metadata": {
    "colab": {
     "base_uri": "https://localhost:8080/",
     "height": 235
    },
    "colab_type": "code",
    "id": "6qClHKOr45_N",
    "outputId": "648f8cba-a4cb-4899-c3b9-cc8359d2185f"
   },
   "outputs": [
    {
     "data": {
      "text/plain": [
       "NDF      58.347349\n",
       "US       29.222632\n",
       "other     4.728954\n",
       "FR        2.353233\n",
       "IT        1.328174\n",
       "GB        1.088774\n",
       "ES        1.053638\n",
       "CA        0.669006\n",
       "DE        0.497070\n",
       "NL        0.356991\n",
       "AU        0.252517\n",
       "PT        0.101663\n",
       "Name: country_destination, dtype: float64"
      ]
     },
     "execution_count": 15,
     "metadata": {},
     "output_type": "execute_result"
    }
   ],
   "source": [
    "country"
   ]
  },
  {
   "cell_type": "markdown",
   "metadata": {
    "colab_type": "text",
    "id": "wFnSBB2sesPN"
   },
   "source": [
    "We can see that there is a majority of NDF(58.3%) and US(29.2%)."
   ]
  },
  {
   "cell_type": "markdown",
   "metadata": {
    "colab_type": "text",
    "id": "2S0gwBpvesPP"
   },
   "source": [
    "## _III - Gender Study_"
   ]
  },
  {
   "cell_type": "markdown",
   "metadata": {
    "colab_type": "text",
    "id": "6jrdK5K5esPQ"
   },
   "source": [
    "Let's study the gender."
   ]
  },
  {
   "cell_type": "code",
   "execution_count": 16,
   "metadata": {
    "colab": {
     "base_uri": "https://localhost:8080/",
     "height": 312
    },
    "colab_type": "code",
    "id": "hn5mNJgResPS",
    "outputId": "eda0de4f-0ca1-49d3-917e-94310a244f63"
   },
   "outputs": [
    {
     "data": {
      "text/plain": [
       "<matplotlib.axes._subplots.AxesSubplot at 0x1a714f851d0>"
      ]
     },
     "execution_count": 16,
     "metadata": {},
     "output_type": "execute_result"
    },
    {
     "data": {
      "image/png": "[encoded data removed]",
      "text/plain": [
       "<Figure size 432x288 with 1 Axes>"
      ]
     },
     "metadata": {
      "needs_background": "light"
     },
     "output_type": "display_data"
    }
   ],
   "source": [
    "gender = dataset['gender'].value_counts() / dataset.shape[0] * 100\n",
    "gender_df = pd.DataFrame()\n",
    "gender_df['gender'] = gender.index\n",
    "gender_df['count'] = gender.values\n",
    "\n",
    "plt.title(\"Gender histogram with unknown values\")\n",
    "\n",
    "sns.barplot(x='gender', y='count', data=gender_df)"
   ]
  },
  {
   "cell_type": "markdown",
   "metadata": {
    "colab_type": "text",
    "id": "Vi-mGXd9esPZ"
   },
   "source": [
    "Now let's change the gender values to acceptable ones."
   ]
  },
  {
   "cell_type": "code",
   "execution_count": 17,
   "metadata": {
    "colab": {
     "base_uri": "https://localhost:8080/",
     "height": 1058
    },
    "colab_type": "code",
    "id": "eW8Y-di9esPa",
    "outputId": "3dc00df1-3810-4cb8-cd59-c1852cab6d8a",
    "scrolled": true
   },
   "outputs": [
    {
     "data": {
      "text/plain": [
       "0          OTHER\n",
       "1           MALE\n",
       "2         FEMALE\n",
       "3         FEMALE\n",
       "4          OTHER\n",
       "5          OTHER\n",
       "6         FEMALE\n",
       "7         FEMALE\n",
       "8         FEMALE\n",
       "9          OTHER\n",
       "10        FEMALE\n",
       "11        FEMALE\n",
       "12         OTHER\n",
       "13        FEMALE\n",
       "14        FEMALE\n",
       "15        FEMALE\n",
       "16         OTHER\n",
       "17         OTHER\n",
       "18         OTHER\n",
       "19        FEMALE\n",
       "20         OTHER\n",
       "21          MALE\n",
       "22         OTHER\n",
       "23         OTHER\n",
       "24        FEMALE\n",
       "25        FEMALE\n",
       "26         OTHER\n",
       "27        FEMALE\n",
       "28         OTHER\n",
       "29         OTHER\n",
       "           ...  \n",
       "213421     OTHER\n",
       "213422     OTHER\n",
       "213423    FEMALE\n",
       "213424    FEMALE\n",
       "213425    FEMALE\n",
       "213426     OTHER\n",
       "213427     OTHER\n",
       "213428     OTHER\n",
       "213429     OTHER\n",
       "213430     OTHER\n",
       "213431     OTHER\n",
       "213432      MALE\n",
       "213433     OTHER\n",
       "213434     OTHER\n",
       "213435     OTHER\n",
       "213436     OTHER\n",
       "213437     OTHER\n",
       "213438     OTHER\n",
       "213439      MALE\n",
       "213440    FEMALE\n",
       "213441    FEMALE\n",
       "213442     OTHER\n",
       "213443    FEMALE\n",
       "213444     OTHER\n",
       "213445    FEMALE\n",
       "213446      MALE\n",
       "213447     OTHER\n",
       "213448     OTHER\n",
       "213449     OTHER\n",
       "213450     OTHER\n",
       "Name: gender, Length: 213451, dtype: object"
      ]
     },
     "execution_count": 17,
     "metadata": {},
     "output_type": "execute_result"
    }
   ],
   "source": [
    "dataset.loc[dataset['gender'] == '-unknown-', 'gender'] = \"OTHER\" # we'll replace unknown values by NaN ones\n",
    "dataset['gender']"
   ]
  },
  {
   "cell_type": "code",
   "execution_count": 18,
   "metadata": {
    "colab": {
     "base_uri": "https://localhost:8080/",
     "height": 328
    },
    "colab_type": "code",
    "id": "qEBJfYJlesPf",
    "outputId": "8a93156f-1a91-46a3-c60f-2ed592024e42"
   },
   "outputs": [
    {
     "data": {
      "text/plain": [
       "<matplotlib.axes._subplots.AxesSubplot at 0x1a714f65cf8>"
      ]
     },
     "execution_count": 18,
     "metadata": {},
     "output_type": "execute_result"
    },
    {
     "data": {
      "image/png": "[encoded data removed]",
      "text/plain": [
       "<Figure size 432x288 with 1 Axes>"
      ]
     },
     "metadata": {
      "needs_background": "light"
     },
     "output_type": "display_data"
    }
   ],
   "source": [
    "gender_percentage = dataset['gender'].value_counts() / dataset.shape[0] * 100\n",
    "\n",
    "plt.title(\"Gender histogram with unknown and other values merged\")\n",
    "\n",
    "gender_percentage.plot(kind='bar')"
   ]
  },
  {
   "cell_type": "code",
   "execution_count": 19,
   "metadata": {
    "colab": {
     "base_uri": "https://localhost:8080/",
     "height": 84
    },
    "colab_type": "code",
    "id": "zLN5NvzgYOr4",
    "outputId": "8a5f028a-054f-469e-babe-f10aad0832b2"
   },
   "outputs": [
    {
     "data": {
      "text/plain": [
       "OTHER     44.961139\n",
       "FEMALE    29.534179\n",
       "MALE      25.504683\n",
       "Name: gender, dtype: float64"
      ]
     },
     "execution_count": 19,
     "metadata": {},
     "output_type": "execute_result"
    }
   ],
   "source": [
    "gender_percentage"
   ]
  },
  {
   "cell_type": "markdown",
   "metadata": {
    "colab_type": "text",
    "id": "5sZqu0ivesPk"
   },
   "source": [
    "Finally, there is 44.9% of other and unknown gender."
   ]
  },
  {
   "cell_type": "markdown",
   "metadata": {
    "colab_type": "text",
    "id": "X4ZC0jC1esPl"
   },
   "source": [
    "## _IV- Browser Study_"
   ]
  },
  {
   "cell_type": "markdown",
   "metadata": {
    "colab_type": "text",
    "id": "R0V0G1d9esPm"
   },
   "source": [
    "Let's study the browser."
   ]
  },
  {
   "cell_type": "code",
   "execution_count": 20,
   "metadata": {
    "colab": {
     "base_uri": "https://localhost:8080/",
     "height": 866
    },
    "colab_type": "code",
    "id": "mr0PUHEeesPn",
    "outputId": "351936b0-4887-40fe-e844-f68e2ba26c3f"
   },
   "outputs": [
    {
     "data": {
      "text/plain": [
       "<seaborn.axisgrid.FacetGrid at 0x1a70d6f1c88>"
      ]
     },
     "execution_count": 20,
     "metadata": {},
     "output_type": "execute_result"
    },
    {
     "data": {
      "image/png": "[encoded data removed]",
      "text/plain": [
       "<Figure size 1440x720 with 1 Axes>"
      ]
     },
     "metadata": {
      "needs_background": "light"
     },
     "output_type": "display_data"
    }
   ],
   "source": [
    "browser = dataset['first_browser'].value_counts() / dataset.shape[0] * 100\n",
    "browser_df = pd.DataFrame()\n",
    "browser_df['first_browser'] = browser.index\n",
    "browser_df['count'] = browser.values\n",
    "\n",
    "data_browser = sns.catplot(x='first_browser', y='count', kind='bar', data=browser_df, aspect=2, height=10)\n",
    "\n",
    "data_browser.set_xticklabels(rotation=90)"
   ]
  },
  {
   "cell_type": "markdown",
   "metadata": {
    "colab_type": "text",
    "id": "B2xXoqgVesPt"
   },
   "source": [
    "## _V- Signup Method Study_"
   ]
  },
  {
   "cell_type": "code",
   "execution_count": 21,
   "metadata": {
    "colab": {
     "base_uri": "https://localhost:8080/",
     "height": 422
    },
    "colab_type": "code",
    "id": "GgxN3bbtesPu",
    "outputId": "5683126d-814b-49f5-a249-4cf47fc2157c"
   },
   "outputs": [
    {
     "data": {
      "text/plain": [
       "<seaborn.axisgrid.FacetGrid at 0x1a70d729080>"
      ]
     },
     "execution_count": 21,
     "metadata": {},
     "output_type": "execute_result"
    },
    {
     "data": {
      "image/png": "[encoded data removed]",
      "text/plain": [
       "<Figure size 720x360 with 1 Axes>"
      ]
     },
     "metadata": {
      "needs_background": "light"
     },
     "output_type": "display_data"
    }
   ],
   "source": [
    "signup = dataset['signup_method'].value_counts() / dataset.shape[0] * 100\n",
    "signup_df = pd.DataFrame()\n",
    "signup_df['signup_method'] = signup.index\n",
    "signup_df['count'] = signup.values\n",
    "\n",
    "data_signup = sns.catplot(x='signup_method', y='count', kind='bar', data=signup_df, aspect=2, height=5)\n",
    "\n",
    "data_signup.set_xticklabels(rotation=90)"
   ]
  },
  {
   "cell_type": "markdown",
   "metadata": {},
   "source": [
    "## _IV - First affiliate study_"
   ]
  },
  {
   "cell_type": "markdown",
   "metadata": {},
   "source": [
    "Let's check how much NaN values there are in the *first_affiliate_tracked* column."
   ]
  },
  {
   "cell_type": "code",
   "execution_count": 22,
   "metadata": {},
   "outputs": [
    {
     "data": {
      "text/plain": [
       "6065"
      ]
     },
     "execution_count": 22,
     "metadata": {},
     "output_type": "execute_result"
    }
   ],
   "source": [
    "dataset['first_affiliate_tracked'].isna().sum()"
   ]
  },
  {
   "cell_type": "markdown",
   "metadata": {},
   "source": [
    "We label NaN values as _'untracked'_."
   ]
  },
  {
   "cell_type": "code",
   "execution_count": 23,
   "metadata": {},
   "outputs": [
    {
     "data": {
      "text/plain": [
       "0"
      ]
     },
     "execution_count": 23,
     "metadata": {},
     "output_type": "execute_result"
    }
   ],
   "source": [
    "dataset['first_affiliate_tracked'] = dataset['first_affiliate_tracked'].fillna(value='untracked')\n",
    "dataset['first_affiliate_tracked'].isna().sum()"
   ]
  },
  {
   "cell_type": "code",
   "execution_count": 24,
   "metadata": {},
   "outputs": [
    {
     "data": {
      "text/plain": [
       "<seaborn.axisgrid.FacetGrid at 0x1a70d6367f0>"
      ]
     },
     "execution_count": 24,
     "metadata": {},
     "output_type": "execute_result"
    },
    {
     "data": {
      "image/png": "[encoded data removed]",
      "text/plain": [
       "<Figure size 720x360 with 1 Axes>"
      ]
     },
     "metadata": {
      "needs_background": "light"
     },
     "output_type": "display_data"
    }
   ],
   "source": [
    "first_aff = dataset['first_affiliate_tracked'].value_counts() / dataset.shape[0] * 100\n",
    "first_aff_df = pd.DataFrame()\n",
    "first_aff_df['first_affiliate_tracked'] = first_aff.index\n",
    "first_aff_df['count'] = first_aff.values\n",
    "\n",
    "data_first_aff = sns.catplot(x='first_affiliate_tracked', y='count', data=first_aff_df, kind='bar', aspect=2, height=5)\n",
    "data_first_aff.set_xticklabels(rotation=90)"
   ]
  },
  {
   "cell_type": "markdown",
   "metadata": {
    "colab_type": "text",
    "id": "GiE8CH4ilmg7"
   },
   "source": [
    "## _V - Date study_"
   ]
  },
  {
   "cell_type": "markdown",
   "metadata": {
    "colab_type": "text",
    "id": "iHBcKs_wlzfN"
   },
   "source": [
    "First of all, let's convert the date format."
   ]
  },
  {
   "cell_type": "code",
   "execution_count": 25,
   "metadata": {
    "colab": {
     "base_uri": "https://localhost:8080/",
     "height": 690
    },
    "colab_type": "code",
    "id": "AXrHrm6XlxT-",
    "outputId": "abe9dbd6-7eb6-4d4a-e0f7-566fde2665e0"
   },
   "outputs": [],
   "source": [
    "dataset['date_account_created'] = pd.to_datetime(dataset['date_account_created'])\n",
    "dataset['weekday_account_created'] = dataset.date_account_created.dt.weekday_name\n",
    "dataset['day_account_created'] = dataset.date_account_created.dt.day\n",
    "dataset['month_account_created'] = dataset.date_account_created.dt.month\n",
    "dataset['year_account_created'] = dataset.date_account_created.dt.year\n",
    "\n",
    "dataset.date_account_created = dataset.date_account_created.astype('datetime64')\n",
    "dataset['date_first_booking'] = pd.to_datetime(dataset['date_first_booking'], errors = 'coerce')"
   ]
  },
  {
   "cell_type": "code",
   "execution_count": 26,
   "metadata": {
    "colab": {
     "base_uri": "https://localhost:8080/",
     "height": 588
    },
    "colab_type": "code",
    "id": "O1x1fWhYmXVM",
    "outputId": "45982fe3-a418-4c6d-f641-06a1adf6fa08"
   },
   "outputs": [
    {
     "data": {
      "text/plain": [
       "<matplotlib.axes._subplots.AxesSubplot at 0x1a714efc1d0>"
      ]
     },
     "execution_count": 26,
     "metadata": {},
     "output_type": "execute_result"
    },
    {
     "data": {
      "image/png": "[encoded data removed]",
      "text/plain": [
       "<Figure size 432x288 with 1 Axes>"
      ]
     },
     "metadata": {},
     "output_type": "display_data"
    }
   ],
   "source": [
    "sns.set_style(\"whitegrid\", {\n",
    "    'axes.edgecolor': '0'\n",
    "})\n",
    "sns.set_context(\"poster\", font_scale = 1.1)\n",
    "dataset['date_account_created'].value_counts().plot(kind = 'area', linewidth = 1.2, color = '#FD5C64')"
   ]
  },
  {
   "cell_type": "markdown",
   "metadata": {
    "colab_type": "text",
    "id": "WIYUmxLpnCIl"
   },
   "source": [
    "Now let's check when, during the year, users are most likely to make their first booking."
   ]
  },
  {
   "cell_type": "code",
   "execution_count": 27,
   "metadata": {
    "colab": {
     "base_uri": "https://localhost:8080/",
     "height": 649
    },
    "colab_type": "code",
    "id": "kb_G6q55nB0-",
    "outputId": "071a1b12-c6ac-467b-e477-ef8df326385c"
   },
   "outputs": [
    {
     "data": {
      "text/plain": [
       "Text(0, 0.5, 'Number of users')"
      ]
     },
     "execution_count": 27,
     "metadata": {},
     "output_type": "execute_result"
    },
    {
     "data": {
      "image/png": "[encoded data removed]",
      "text/plain": [
       "<Figure size 432x288 with 1 Axes>"
      ]
     },
     "metadata": {},
     "output_type": "display_data"
    }
   ],
   "source": [
    "dataset.groupby(dataset['date_first_booking'].dt.month)['id'].count().plot(kind='bar')\n",
    "plt.xlabel('Months')\n",
    "plt.ylabel('Number of users')"
   ]
  },
  {
   "cell_type": "markdown",
   "metadata": {
    "colab_type": "text",
    "id": "lvGdK1xXesQG"
   },
   "source": [
    "# Models Building"
   ]
  },
  {
   "cell_type": "markdown",
   "metadata": {
    "colab_type": "text",
    "id": "cPZmE0afesPx"
   },
   "source": [
    "## Encoding categorical variables"
   ]
  },
  {
   "cell_type": "markdown",
   "metadata": {
    "colab_type": "text",
    "id": "L54jfNl_esPy"
   },
   "source": [
    "We're going now to encode our categorical variables. "
   ]
  },
  {
   "cell_type": "code",
   "execution_count": 28,
   "metadata": {
    "colab": {
     "base_uri": "https://localhost:8080/",
     "height": 218
    },
    "colab_type": "code",
    "id": "HoKZxYwbq0T2",
    "outputId": "dfc722ae-6bfe-4924-df76-0f46db2b3644"
   },
   "outputs": [
    {
     "data": {
      "text/plain": [
       "id                                 object\n",
       "date_account_created       datetime64[ns]\n",
       "date_first_booking         datetime64[ns]\n",
       "gender                             object\n",
       "age                                object\n",
       "signup_method                      object\n",
       "language                           object\n",
       "affiliate_channel                  object\n",
       "affiliate_provider                 object\n",
       "first_affiliate_tracked            object\n",
       "signup_app                         object\n",
       "first_device_type                  object\n",
       "first_browser                      object\n",
       "country_destination                object\n",
       "weekday_account_created            object\n",
       "day_account_created                 int64\n",
       "month_account_created               int64\n",
       "year_account_created                int64\n",
       "dtype: object"
      ]
     },
     "execution_count": 28,
     "metadata": {},
     "output_type": "execute_result"
    }
   ],
   "source": [
    "dataset.dtypes"
   ]
  },
  {
   "cell_type": "markdown",
   "metadata": {
    "colab_type": "text",
    "id": "6gpBmDlfUkBE"
   },
   "source": [
    "Standardisation"
   ]
  },
  {
   "cell_type": "code",
   "execution_count": 29,
   "metadata": {
    "colab": {},
    "colab_type": "code",
    "id": "U5Ou0omiesP2",
    "scrolled": true
   },
   "outputs": [],
   "source": [
    "gender = pd.get_dummies(dataset['gender'])\n",
    "signup_method = pd.get_dummies(dataset['signup_method'])\n",
    "language = pd.get_dummies(dataset['language'])\n",
    "affiliate_channel = pd.get_dummies(dataset['affiliate_channel'])\n",
    "affiliate_provider = pd.get_dummies(dataset['affiliate_provider'])\n",
    "first_affiliate_tracked = pd.get_dummies(dataset['first_affiliate_tracked'])\n",
    "signup_app = pd.get_dummies(dataset['signup_app'])\n",
    "first_device_type = pd.get_dummies(dataset['first_device_type'])\n",
    "first_browser = pd.get_dummies(dataset['first_browser'])"
   ]
  },
  {
   "cell_type": "markdown",
   "metadata": {
    "colab_type": "text",
    "id": "fAMjDINuUmQ6"
   },
   "source": [
    "Remove previous columns"
   ]
  },
  {
   "cell_type": "code",
   "execution_count": 30,
   "metadata": {
    "colab": {},
    "colab_type": "code",
    "id": "Dcjc3AU7UoZS",
    "scrolled": true
   },
   "outputs": [
    {
     "data": {
      "text/html": [
       "<div>\n",
       "<style scoped>\n",
       "    .dataframe tbody tr th:only-of-type {\n",
       "        vertical-align: middle;\n",
       "    }\n",
       "\n",
       "    .dataframe tbody tr th {\n",
       "        vertical-align: top;\n",
       "    }\n",
       "\n",
       "    .dataframe thead th {\n",
       "        text-align: right;\n",
       "    }\n",
       "</style>\n",
       "<table border=\"1\" class=\"dataframe\">\n",
       "  <thead>\n",
       "    <tr style=\"text-align: right;\">\n",
       "      <th></th>\n",
       "      <th>age</th>\n",
       "      <th>country_destination</th>\n",
       "      <th>day_account_created</th>\n",
       "      <th>month_account_created</th>\n",
       "      <th>year_account_created</th>\n",
       "    </tr>\n",
       "  </thead>\n",
       "  <tbody>\n",
       "    <tr>\n",
       "      <th>0</th>\n",
       "      <td>nan</td>\n",
       "      <td>NDF</td>\n",
       "      <td>28</td>\n",
       "      <td>6</td>\n",
       "      <td>2010</td>\n",
       "    </tr>\n",
       "    <tr>\n",
       "      <th>1</th>\n",
       "      <td>38.0</td>\n",
       "      <td>NDF</td>\n",
       "      <td>25</td>\n",
       "      <td>5</td>\n",
       "      <td>2011</td>\n",
       "    </tr>\n",
       "    <tr>\n",
       "      <th>2</th>\n",
       "      <td>56.0</td>\n",
       "      <td>US</td>\n",
       "      <td>28</td>\n",
       "      <td>9</td>\n",
       "      <td>2010</td>\n",
       "    </tr>\n",
       "    <tr>\n",
       "      <th>3</th>\n",
       "      <td>42.0</td>\n",
       "      <td>other</td>\n",
       "      <td>12</td>\n",
       "      <td>5</td>\n",
       "      <td>2011</td>\n",
       "    </tr>\n",
       "    <tr>\n",
       "      <th>4</th>\n",
       "      <td>41.0</td>\n",
       "      <td>US</td>\n",
       "      <td>14</td>\n",
       "      <td>9</td>\n",
       "      <td>2010</td>\n",
       "    </tr>\n",
       "  </tbody>\n",
       "</table>\n",
       "</div>"
      ],
      "text/plain": [
       "    age country_destination  day_account_created  month_account_created  \\\n",
       "0   nan                 NDF                   28                      6   \n",
       "1  38.0                 NDF                   25                      5   \n",
       "2  56.0                  US                   28                      9   \n",
       "3  42.0               other                   12                      5   \n",
       "4  41.0                  US                   14                      9   \n",
       "\n",
       "   year_account_created  \n",
       "0                  2010  \n",
       "1                  2011  \n",
       "2                  2010  \n",
       "3                  2011  \n",
       "4                  2010  "
      ]
     },
     "execution_count": 30,
     "metadata": {},
     "output_type": "execute_result"
    }
   ],
   "source": [
    "dataset.drop(['id', 'date_first_booking', 'date_account_created', 'gender','language','signup_method','affiliate_channel','affiliate_provider','first_affiliate_tracked','signup_app','first_device_type','first_browser','weekday_account_created'], axis = 1, inplace = True)\n",
    "dataset.head()"
   ]
  },
  {
   "cell_type": "code",
   "execution_count": 31,
   "metadata": {},
   "outputs": [
    {
     "data": {
      "text/html": [
       "<div>\n",
       "<style scoped>\n",
       "    .dataframe tbody tr th:only-of-type {\n",
       "        vertical-align: middle;\n",
       "    }\n",
       "\n",
       "    .dataframe tbody tr th {\n",
       "        vertical-align: top;\n",
       "    }\n",
       "\n",
       "    .dataframe thead th {\n",
       "        text-align: right;\n",
       "    }\n",
       "</style>\n",
       "<table border=\"1\" class=\"dataframe\">\n",
       "  <thead>\n",
       "    <tr style=\"text-align: right;\">\n",
       "      <th></th>\n",
       "      <th>age</th>\n",
       "      <th>country_destination</th>\n",
       "      <th>day_account_created</th>\n",
       "      <th>month_account_created</th>\n",
       "      <th>year_account_created</th>\n",
       "      <th>FEMALE</th>\n",
       "      <th>MALE</th>\n",
       "      <th>OTHER</th>\n",
       "      <th>basic</th>\n",
       "      <th>facebook</th>\n",
       "      <th>...</th>\n",
       "      <th>SeaMonkey</th>\n",
       "      <th>Silk</th>\n",
       "      <th>SiteKiosk</th>\n",
       "      <th>SlimBrowser</th>\n",
       "      <th>Sogou Explorer</th>\n",
       "      <th>Stainless</th>\n",
       "      <th>TenFourFox</th>\n",
       "      <th>TheWorld Browser</th>\n",
       "      <th>Yandex.Browser</th>\n",
       "      <th>wOSBrowser</th>\n",
       "    </tr>\n",
       "  </thead>\n",
       "  <tbody>\n",
       "    <tr>\n",
       "      <th>0</th>\n",
       "      <td>nan</td>\n",
       "      <td>NDF</td>\n",
       "      <td>28</td>\n",
       "      <td>6</td>\n",
       "      <td>2010</td>\n",
       "      <td>0</td>\n",
       "      <td>0</td>\n",
       "      <td>1</td>\n",
       "      <td>0</td>\n",
       "      <td>1</td>\n",
       "      <td>...</td>\n",
       "      <td>0</td>\n",
       "      <td>0</td>\n",
       "      <td>0</td>\n",
       "      <td>0</td>\n",
       "      <td>0</td>\n",
       "      <td>0</td>\n",
       "      <td>0</td>\n",
       "      <td>0</td>\n",
       "      <td>0</td>\n",
       "      <td>0</td>\n",
       "    </tr>\n",
       "    <tr>\n",
       "      <th>1</th>\n",
       "      <td>38.0</td>\n",
       "      <td>NDF</td>\n",
       "      <td>25</td>\n",
       "      <td>5</td>\n",
       "      <td>2011</td>\n",
       "      <td>0</td>\n",
       "      <td>1</td>\n",
       "      <td>0</td>\n",
       "      <td>0</td>\n",
       "      <td>1</td>\n",
       "      <td>...</td>\n",
       "      <td>0</td>\n",
       "      <td>0</td>\n",
       "      <td>0</td>\n",
       "      <td>0</td>\n",
       "      <td>0</td>\n",
       "      <td>0</td>\n",
       "      <td>0</td>\n",
       "      <td>0</td>\n",
       "      <td>0</td>\n",
       "      <td>0</td>\n",
       "    </tr>\n",
       "    <tr>\n",
       "      <th>2</th>\n",
       "      <td>56.0</td>\n",
       "      <td>US</td>\n",
       "      <td>28</td>\n",
       "      <td>9</td>\n",
       "      <td>2010</td>\n",
       "      <td>1</td>\n",
       "      <td>0</td>\n",
       "      <td>0</td>\n",
       "      <td>1</td>\n",
       "      <td>0</td>\n",
       "      <td>...</td>\n",
       "      <td>0</td>\n",
       "      <td>0</td>\n",
       "      <td>0</td>\n",
       "      <td>0</td>\n",
       "      <td>0</td>\n",
       "      <td>0</td>\n",
       "      <td>0</td>\n",
       "      <td>0</td>\n",
       "      <td>0</td>\n",
       "      <td>0</td>\n",
       "    </tr>\n",
       "    <tr>\n",
       "      <th>3</th>\n",
       "      <td>42.0</td>\n",
       "      <td>other</td>\n",
       "      <td>12</td>\n",
       "      <td>5</td>\n",
       "      <td>2011</td>\n",
       "      <td>1</td>\n",
       "      <td>0</td>\n",
       "      <td>0</td>\n",
       "      <td>0</td>\n",
       "      <td>1</td>\n",
       "      <td>...</td>\n",
       "      <td>0</td>\n",
       "      <td>0</td>\n",
       "      <td>0</td>\n",
       "      <td>0</td>\n",
       "      <td>0</td>\n",
       "      <td>0</td>\n",
       "      <td>0</td>\n",
       "      <td>0</td>\n",
       "      <td>0</td>\n",
       "      <td>0</td>\n",
       "    </tr>\n",
       "    <tr>\n",
       "      <th>4</th>\n",
       "      <td>41.0</td>\n",
       "      <td>US</td>\n",
       "      <td>14</td>\n",
       "      <td>9</td>\n",
       "      <td>2010</td>\n",
       "      <td>0</td>\n",
       "      <td>0</td>\n",
       "      <td>1</td>\n",
       "      <td>1</td>\n",
       "      <td>0</td>\n",
       "      <td>...</td>\n",
       "      <td>0</td>\n",
       "      <td>0</td>\n",
       "      <td>0</td>\n",
       "      <td>0</td>\n",
       "      <td>0</td>\n",
       "      <td>0</td>\n",
       "      <td>0</td>\n",
       "      <td>0</td>\n",
       "      <td>0</td>\n",
       "      <td>0</td>\n",
       "    </tr>\n",
       "  </tbody>\n",
       "</table>\n",
       "<p>5 rows × 134 columns</p>\n",
       "</div>"
      ],
      "text/plain": [
       "    age country_destination  day_account_created  month_account_created  \\\n",
       "0   nan                 NDF                   28                      6   \n",
       "1  38.0                 NDF                   25                      5   \n",
       "2  56.0                  US                   28                      9   \n",
       "3  42.0               other                   12                      5   \n",
       "4  41.0                  US                   14                      9   \n",
       "\n",
       "   year_account_created  FEMALE  MALE  OTHER  basic  facebook     ...      \\\n",
       "0                  2010       0     0      1      0         1     ...       \n",
       "1                  2011       0     1      0      0         1     ...       \n",
       "2                  2010       1     0      0      1         0     ...       \n",
       "3                  2011       1     0      0      0         1     ...       \n",
       "4                  2010       0     0      1      1         0     ...       \n",
       "\n",
       "   SeaMonkey  Silk  SiteKiosk  SlimBrowser  Sogou Explorer  Stainless  \\\n",
       "0          0     0          0            0               0          0   \n",
       "1          0     0          0            0               0          0   \n",
       "2          0     0          0            0               0          0   \n",
       "3          0     0          0            0               0          0   \n",
       "4          0     0          0            0               0          0   \n",
       "\n",
       "   TenFourFox  TheWorld Browser  Yandex.Browser  wOSBrowser  \n",
       "0           0                 0               0           0  \n",
       "1           0                 0               0           0  \n",
       "2           0                 0               0           0  \n",
       "3           0                 0               0           0  \n",
       "4           0                 0               0           0  \n",
       "\n",
       "[5 rows x 134 columns]"
      ]
     },
     "execution_count": 31,
     "metadata": {},
     "output_type": "execute_result"
    }
   ],
   "source": [
    "dataset = pd.concat([dataset, gender, signup_method, language, affiliate_channel, affiliate_provider, first_affiliate_tracked, signup_app, first_device_type, first_browser], axis = 1)\n",
    "dataset.head()"
   ]
  },
  {
   "cell_type": "markdown",
   "metadata": {},
   "source": [
    "Let's check our columns now."
   ]
  },
  {
   "cell_type": "code",
   "execution_count": 32,
   "metadata": {},
   "outputs": [
    {
     "data": {
      "text/plain": [
       "['age',\n",
       " 'country_destination',\n",
       " 'day_account_created',\n",
       " 'month_account_created',\n",
       " 'year_account_created',\n",
       " 'FEMALE',\n",
       " 'MALE',\n",
       " 'OTHER',\n",
       " 'basic',\n",
       " 'facebook',\n",
       " 'google',\n",
       " 'ca',\n",
       " 'cs',\n",
       " 'da',\n",
       " 'de',\n",
       " 'el',\n",
       " 'en',\n",
       " 'es',\n",
       " 'fi',\n",
       " 'fr',\n",
       " 'hr',\n",
       " 'hu',\n",
       " 'id',\n",
       " 'is',\n",
       " 'it',\n",
       " 'ja',\n",
       " 'ko',\n",
       " 'nl',\n",
       " 'no',\n",
       " 'pl',\n",
       " 'pt',\n",
       " 'ru',\n",
       " 'sv',\n",
       " 'th',\n",
       " 'tr',\n",
       " 'zh',\n",
       " 'api',\n",
       " 'content',\n",
       " 'direct',\n",
       " 'other',\n",
       " 'remarketing',\n",
       " 'sem-brand',\n",
       " 'sem-non-brand',\n",
       " 'seo',\n",
       " 'baidu',\n",
       " 'bing',\n",
       " 'craigslist',\n",
       " 'daum',\n",
       " 'direct',\n",
       " 'email-marketing',\n",
       " 'facebook',\n",
       " 'facebook-open-graph',\n",
       " 'google',\n",
       " 'gsp',\n",
       " 'meetup',\n",
       " 'naver',\n",
       " 'other',\n",
       " 'padmapper',\n",
       " 'vast',\n",
       " 'wayn',\n",
       " 'yahoo',\n",
       " 'yandex',\n",
       " 'linked',\n",
       " 'local ops',\n",
       " 'marketing',\n",
       " 'omg',\n",
       " 'product',\n",
       " 'tracked-other',\n",
       " 'untracked',\n",
       " 'Android',\n",
       " 'Moweb',\n",
       " 'Web',\n",
       " 'iOS',\n",
       " 'Android Phone',\n",
       " 'Android Tablet',\n",
       " 'Desktop (Other)',\n",
       " 'Mac Desktop',\n",
       " 'Other/Unknown',\n",
       " 'SmartPhone (Other)',\n",
       " 'Windows Desktop',\n",
       " 'iPad',\n",
       " 'iPhone',\n",
       " '-unknown-',\n",
       " 'AOL Explorer',\n",
       " 'Android Browser',\n",
       " 'Apple Mail',\n",
       " 'Arora',\n",
       " 'Avant Browser',\n",
       " 'BlackBerry Browser',\n",
       " 'Camino',\n",
       " 'Chrome',\n",
       " 'Chrome Mobile',\n",
       " 'Chromium',\n",
       " 'CometBird',\n",
       " 'Comodo Dragon',\n",
       " 'Conkeror',\n",
       " 'CoolNovo',\n",
       " 'Crazy Browser',\n",
       " 'Epic',\n",
       " 'Firefox',\n",
       " 'Flock',\n",
       " 'Google Earth',\n",
       " 'Googlebot',\n",
       " 'IE',\n",
       " 'IE Mobile',\n",
       " 'IceDragon',\n",
       " 'IceWeasel',\n",
       " 'Iron',\n",
       " 'Kindle Browser',\n",
       " 'Maxthon',\n",
       " 'Mobile Firefox',\n",
       " 'Mobile Safari',\n",
       " 'Mozilla',\n",
       " 'NetNewsWire',\n",
       " 'OmniWeb',\n",
       " 'Opera',\n",
       " 'Opera Mini',\n",
       " 'Opera Mobile',\n",
       " 'Outlook 2007',\n",
       " 'PS Vita browser',\n",
       " 'Pale Moon',\n",
       " 'Palm Pre web browser',\n",
       " 'RockMelt',\n",
       " 'Safari',\n",
       " 'SeaMonkey',\n",
       " 'Silk',\n",
       " 'SiteKiosk',\n",
       " 'SlimBrowser',\n",
       " 'Sogou Explorer',\n",
       " 'Stainless',\n",
       " 'TenFourFox',\n",
       " 'TheWorld Browser',\n",
       " 'Yandex.Browser',\n",
       " 'wOSBrowser']"
      ]
     },
     "execution_count": 32,
     "metadata": {},
     "output_type": "execute_result"
    }
   ],
   "source": [
    "list_columns = dataset.columns.tolist()\n",
    "list_columns"
   ]
  },
  {
   "cell_type": "code",
   "execution_count": 33,
   "metadata": {},
   "outputs": [
    {
     "data": {
      "text/plain": [
       "134"
      ]
     },
     "execution_count": 33,
     "metadata": {},
     "output_type": "execute_result"
    }
   ],
   "source": [
    "len(list_columns)"
   ]
  },
  {
   "cell_type": "markdown",
   "metadata": {},
   "source": [
    "We can see that there are many columns having the same name, so we're going to rename them."
   ]
  },
  {
   "cell_type": "code",
   "execution_count": 34,
   "metadata": {},
   "outputs": [
    {
     "name": "stdout",
     "output_type": "stream",
     "text": [
      "age\n",
      "country_destination\n",
      "day_account_created\n",
      "month_account_created\n",
      "year_account_created\n",
      "FEMALE\n",
      "MALE\n",
      "OTHER\n",
      "basic\n",
      "facebook\n",
      "google\n",
      "ca\n",
      "cs\n",
      "da\n",
      "de\n",
      "el\n",
      "en\n",
      "es\n",
      "fi\n",
      "fr\n",
      "hr\n",
      "hu\n",
      "id\n",
      "is\n",
      "it\n",
      "ja\n",
      "ko\n",
      "nl\n",
      "no\n",
      "pl\n",
      "pt\n",
      "ru\n",
      "sv\n",
      "th\n",
      "tr\n",
      "zh\n",
      "api\n",
      "content\n",
      "direct\n",
      "other\n",
      "remarketing\n",
      "sem-brand\n",
      "sem-non-brand\n",
      "seo\n",
      "baidu\n",
      "bing\n",
      "craigslist\n",
      "daum\n",
      "email-marketing\n",
      "facebook-open-graph\n",
      "gsp\n",
      "meetup\n",
      "naver\n",
      "padmapper\n",
      "vast\n",
      "wayn\n",
      "yahoo\n",
      "yandex\n",
      "linked\n",
      "local ops\n",
      "marketing\n",
      "omg\n",
      "product\n",
      "tracked-other\n",
      "untracked\n",
      "Android\n",
      "Moweb\n",
      "Web\n",
      "iOS\n",
      "Android Phone\n",
      "Android Tablet\n",
      "Desktop (Other)\n",
      "Mac Desktop\n",
      "Other/Unknown\n",
      "SmartPhone (Other)\n",
      "Windows Desktop\n",
      "iPad\n",
      "iPhone\n",
      "-unknown-\n",
      "AOL Explorer\n",
      "Android Browser\n",
      "Apple Mail\n",
      "Arora\n",
      "Avant Browser\n",
      "BlackBerry Browser\n",
      "Camino\n",
      "Chrome\n",
      "Chrome Mobile\n",
      "Chromium\n",
      "CometBird\n",
      "Comodo Dragon\n",
      "Conkeror\n",
      "CoolNovo\n",
      "Crazy Browser\n",
      "Epic\n",
      "Firefox\n",
      "Flock\n",
      "Google Earth\n",
      "Googlebot\n",
      "IE\n",
      "IE Mobile\n",
      "IceDragon\n",
      "IceWeasel\n",
      "Iron\n",
      "Kindle Browser\n",
      "Maxthon\n",
      "Mobile Firefox\n",
      "Mobile Safari\n",
      "Mozilla\n",
      "NetNewsWire\n",
      "OmniWeb\n",
      "Opera\n",
      "Opera Mini\n",
      "Opera Mobile\n",
      "Outlook 2007\n",
      "PS Vita browser\n",
      "Pale Moon\n",
      "Palm Pre web browser\n",
      "RockMelt\n",
      "Safari\n",
      "SeaMonkey\n",
      "Silk\n",
      "SiteKiosk\n",
      "SlimBrowser\n",
      "Sogou Explorer\n",
      "Stainless\n",
      "TenFourFox\n",
      "TheWorld Browser\n",
      "Yandex.Browser\n",
      "wOSBrowser\n"
     ]
    }
   ],
   "source": [
    "def unique(first_list): \n",
    "    unique_list = [] \n",
    "    for x in first_list: \n",
    "        if x not in unique_list: \n",
    "            unique_list.append(x) \n",
    "    for x in unique_list: \n",
    "        print (x)\n",
    "unique(dataset.columns)\n",
    "\n",
    "list_columns = []\n",
    "count = 1\n",
    "for column in dataset.columns:\n",
    "    if column == 'basic':\n",
    "        list_columns.append('basic_' + str(count))\n",
    "        count += 1\n",
    "        continue\n",
    "    if column == 'facebook':\n",
    "        list_columns.append('facebook_' + str(count))\n",
    "        count += 1\n",
    "        continue\n",
    "    if column == 'google':\n",
    "        list_columns.append('google_' + str(count))\n",
    "        count += 1\n",
    "        continue\n",
    "    if column == 'other':\n",
    "        list_columns.append('other_' + str(count))\n",
    "        count += 1\n",
    "        continue\n",
    "    if column == 'direct':\n",
    "        list_columns.append('direct_' + str(count))\n",
    "        count += 1\n",
    "        continue\n",
    "    list_columns.append(column)\n",
    "dataset.columns = list_columns"
   ]
  },
  {
   "cell_type": "code",
   "execution_count": 35,
   "metadata": {},
   "outputs": [
    {
     "data": {
      "text/plain": [
       "134"
      ]
     },
     "execution_count": 35,
     "metadata": {},
     "output_type": "execute_result"
    }
   ],
   "source": [
    "dataset.columns.nunique()"
   ]
  },
  {
   "cell_type": "code",
   "execution_count": 36,
   "metadata": {},
   "outputs": [
    {
     "data": {
      "text/plain": [
       "134"
      ]
     },
     "execution_count": 36,
     "metadata": {},
     "output_type": "execute_result"
    }
   ],
   "source": [
    "len(dataset.columns)"
   ]
  },
  {
   "cell_type": "markdown",
   "metadata": {
    "colab_type": "text",
    "id": "jQ64_vCKesP8"
   },
   "source": [
    "## Separation of our dataset"
   ]
  },
  {
   "cell_type": "markdown",
   "metadata": {
    "colab_type": "text",
    "id": "zAua0nyjesP9"
   },
   "source": [
    "We're now going to separate our dataset. To do so, let's name x our dataset containing our independant variables that contains all our columns except the one attributed to y (the dependant variable) : country_destination."
   ]
  },
  {
   "cell_type": "code",
   "execution_count": 60,
   "metadata": {
    "colab": {
     "base_uri": "https://localhost:8080/",
     "height": 1882
    },
    "colab_type": "code",
    "id": "ccdNJpIyWyB-",
    "outputId": "56dd49c8-0fe4-4d9c-a3d7-161a98235c03"
   },
   "outputs": [
    {
     "data": {
      "text/html": [
       "<div>\n",
       "<style scoped>\n",
       "    .dataframe tbody tr th:only-of-type {\n",
       "        vertical-align: middle;\n",
       "    }\n",
       "\n",
       "    .dataframe tbody tr th {\n",
       "        vertical-align: top;\n",
       "    }\n",
       "\n",
       "    .dataframe thead th {\n",
       "        text-align: right;\n",
       "    }\n",
       "</style>\n",
       "<table border=\"1\" class=\"dataframe\">\n",
       "  <thead>\n",
       "    <tr style=\"text-align: right;\">\n",
       "      <th></th>\n",
       "      <th>age</th>\n",
       "      <th>country_destination</th>\n",
       "      <th>day_account_created</th>\n",
       "      <th>month_account_created</th>\n",
       "      <th>year_account_created</th>\n",
       "      <th>FEMALE</th>\n",
       "      <th>MALE</th>\n",
       "      <th>OTHER</th>\n",
       "      <th>basic_1</th>\n",
       "      <th>facebook_2</th>\n",
       "      <th>...</th>\n",
       "      <th>SeaMonkey</th>\n",
       "      <th>Silk</th>\n",
       "      <th>SiteKiosk</th>\n",
       "      <th>SlimBrowser</th>\n",
       "      <th>Sogou Explorer</th>\n",
       "      <th>Stainless</th>\n",
       "      <th>TenFourFox</th>\n",
       "      <th>TheWorld Browser</th>\n",
       "      <th>Yandex.Browser</th>\n",
       "      <th>wOSBrowser</th>\n",
       "    </tr>\n",
       "  </thead>\n",
       "  <tbody>\n",
       "    <tr>\n",
       "      <th>0</th>\n",
       "      <td>33.0</td>\n",
       "      <td>NDF</td>\n",
       "      <td>28</td>\n",
       "      <td>6</td>\n",
       "      <td>2010</td>\n",
       "      <td>0</td>\n",
       "      <td>0</td>\n",
       "      <td>1</td>\n",
       "      <td>0</td>\n",
       "      <td>1</td>\n",
       "      <td>...</td>\n",
       "      <td>0</td>\n",
       "      <td>0</td>\n",
       "      <td>0</td>\n",
       "      <td>0</td>\n",
       "      <td>0</td>\n",
       "      <td>0</td>\n",
       "      <td>0</td>\n",
       "      <td>0</td>\n",
       "      <td>0</td>\n",
       "      <td>0</td>\n",
       "    </tr>\n",
       "    <tr>\n",
       "      <th>1</th>\n",
       "      <td>38.0</td>\n",
       "      <td>NDF</td>\n",
       "      <td>25</td>\n",
       "      <td>5</td>\n",
       "      <td>2011</td>\n",
       "      <td>0</td>\n",
       "      <td>1</td>\n",
       "      <td>0</td>\n",
       "      <td>0</td>\n",
       "      <td>1</td>\n",
       "      <td>...</td>\n",
       "      <td>0</td>\n",
       "      <td>0</td>\n",
       "      <td>0</td>\n",
       "      <td>0</td>\n",
       "      <td>0</td>\n",
       "      <td>0</td>\n",
       "      <td>0</td>\n",
       "      <td>0</td>\n",
       "      <td>0</td>\n",
       "      <td>0</td>\n",
       "    </tr>\n",
       "    <tr>\n",
       "      <th>2</th>\n",
       "      <td>56.0</td>\n",
       "      <td>US</td>\n",
       "      <td>28</td>\n",
       "      <td>9</td>\n",
       "      <td>2010</td>\n",
       "      <td>1</td>\n",
       "      <td>0</td>\n",
       "      <td>0</td>\n",
       "      <td>1</td>\n",
       "      <td>0</td>\n",
       "      <td>...</td>\n",
       "      <td>0</td>\n",
       "      <td>0</td>\n",
       "      <td>0</td>\n",
       "      <td>0</td>\n",
       "      <td>0</td>\n",
       "      <td>0</td>\n",
       "      <td>0</td>\n",
       "      <td>0</td>\n",
       "      <td>0</td>\n",
       "      <td>0</td>\n",
       "    </tr>\n",
       "    <tr>\n",
       "      <th>3</th>\n",
       "      <td>42.0</td>\n",
       "      <td>other</td>\n",
       "      <td>12</td>\n",
       "      <td>5</td>\n",
       "      <td>2011</td>\n",
       "      <td>1</td>\n",
       "      <td>0</td>\n",
       "      <td>0</td>\n",
       "      <td>0</td>\n",
       "      <td>1</td>\n",
       "      <td>...</td>\n",
       "      <td>0</td>\n",
       "      <td>0</td>\n",
       "      <td>0</td>\n",
       "      <td>0</td>\n",
       "      <td>0</td>\n",
       "      <td>0</td>\n",
       "      <td>0</td>\n",
       "      <td>0</td>\n",
       "      <td>0</td>\n",
       "      <td>0</td>\n",
       "    </tr>\n",
       "    <tr>\n",
       "      <th>4</th>\n",
       "      <td>41.0</td>\n",
       "      <td>US</td>\n",
       "      <td>14</td>\n",
       "      <td>9</td>\n",
       "      <td>2010</td>\n",
       "      <td>0</td>\n",
       "      <td>0</td>\n",
       "      <td>1</td>\n",
       "      <td>1</td>\n",
       "      <td>0</td>\n",
       "      <td>...</td>\n",
       "      <td>0</td>\n",
       "      <td>0</td>\n",
       "      <td>0</td>\n",
       "      <td>0</td>\n",
       "      <td>0</td>\n",
       "      <td>0</td>\n",
       "      <td>0</td>\n",
       "      <td>0</td>\n",
       "      <td>0</td>\n",
       "      <td>0</td>\n",
       "    </tr>\n",
       "  </tbody>\n",
       "</table>\n",
       "<p>5 rows × 134 columns</p>\n",
       "</div>"
      ],
      "text/plain": [
       "    age country_destination  day_account_created  month_account_created  \\\n",
       "0  33.0                 NDF                   28                      6   \n",
       "1  38.0                 NDF                   25                      5   \n",
       "2  56.0                  US                   28                      9   \n",
       "3  42.0               other                   12                      5   \n",
       "4  41.0                  US                   14                      9   \n",
       "\n",
       "   year_account_created  FEMALE  MALE  OTHER  basic_1  facebook_2     ...      \\\n",
       "0                  2010       0     0      1        0           1     ...       \n",
       "1                  2011       0     1      0        0           1     ...       \n",
       "2                  2010       1     0      0        1           0     ...       \n",
       "3                  2011       1     0      0        0           1     ...       \n",
       "4                  2010       0     0      1        1           0     ...       \n",
       "\n",
       "   SeaMonkey  Silk  SiteKiosk  SlimBrowser  Sogou Explorer  Stainless  \\\n",
       "0          0     0          0            0               0          0   \n",
       "1          0     0          0            0               0          0   \n",
       "2          0     0          0            0               0          0   \n",
       "3          0     0          0            0               0          0   \n",
       "4          0     0          0            0               0          0   \n",
       "\n",
       "   TenFourFox  TheWorld Browser  Yandex.Browser  wOSBrowser  \n",
       "0           0                 0               0           0  \n",
       "1           0                 0               0           0  \n",
       "2           0                 0               0           0  \n",
       "3           0                 0               0           0  \n",
       "4           0                 0               0           0  \n",
       "\n",
       "[5 rows x 134 columns]"
      ]
     },
     "execution_count": 60,
     "metadata": {},
     "output_type": "execute_result"
    }
   ],
   "source": [
    "dataset.head()"
   ]
  },
  {
   "cell_type": "code",
   "execution_count": 61,
   "metadata": {
    "colab": {},
    "colab_type": "code",
    "id": "Whcl47HLesP-"
   },
   "outputs": [],
   "source": [
    "x = dataset.drop('country_destination', axis = 1)\n",
    "y = dataset['country_destination']"
   ]
  },
  {
   "cell_type": "markdown",
   "metadata": {
    "colab_type": "text",
    "id": "IW2FWekfesQA"
   },
   "source": [
    "Now let's split our dataset into train mode (70%) and test mode (30%)."
   ]
  },
  {
   "cell_type": "code",
   "execution_count": 62,
   "metadata": {
    "colab": {},
    "colab_type": "code",
    "id": "EkOe-UviesQB"
   },
   "outputs": [],
   "source": [
    "from sklearn.model_selection import train_test_split\n",
    "x_train, x_test, y_train, y_test = train_test_split(x, y, test_size = 0.30, random_state = 0)"
   ]
  },
  {
   "cell_type": "markdown",
   "metadata": {
    "colab_type": "text",
    "id": "HpW6CBgZr-r5"
   },
   "source": [
    "## _I - Logistic Regression_"
   ]
  },
  {
   "cell_type": "markdown",
   "metadata": {},
   "source": [
    "Logistic Regression on the training set."
   ]
  },
  {
   "cell_type": "code",
   "execution_count": 63,
   "metadata": {
    "colab": {
     "base_uri": "https://localhost:8080/",
     "height": 390
    },
    "colab_type": "code",
    "id": "6n9k-qoAesQH",
    "outputId": "f4e8515e-73df-4deb-9e62-cf70f1f262f9"
   },
   "outputs": [
    {
     "name": "stderr",
     "output_type": "stream",
     "text": [
      "C:\\Users\\hendo\\Anaconda3\\lib\\site-packages\\sklearn\\linear_model\\logistic.py:433: FutureWarning: Default solver will be changed to 'lbfgs' in 0.22. Specify a solver to silence this warning.\n",
      "  FutureWarning)\n",
      "C:\\Users\\hendo\\Anaconda3\\lib\\site-packages\\sklearn\\linear_model\\logistic.py:460: FutureWarning: Default multi_class will be changed to 'auto' in 0.22. Specify the multi_class option to silence this warning.\n",
      "  \"this warning.\", FutureWarning)\n"
     ]
    },
    {
     "data": {
      "text/plain": [
       "LogisticRegression(C=1.0, class_weight=None, dual=False, fit_intercept=True,\n",
       "          intercept_scaling=1, max_iter=100, multi_class='warn',\n",
       "          n_jobs=None, penalty='l2', random_state=0, solver='warn',\n",
       "          tol=0.0001, verbose=0, warm_start=False)"
      ]
     },
     "execution_count": 63,
     "metadata": {},
     "output_type": "execute_result"
    }
   ],
   "source": [
    "from sklearn.linear_model import LogisticRegression\n",
    "classifier = LogisticRegression(random_state = 0)\n",
    "classifier.fit(x_train, y_train)"
   ]
  },
  {
   "cell_type": "markdown",
   "metadata": {
    "colab": {},
    "colab_type": "code",
    "id": "hVMJZvuEesQJ"
   },
   "source": [
    "#### Prediction on the test set"
   ]
  },
  {
   "cell_type": "code",
   "execution_count": 64,
   "metadata": {
    "colab": {},
    "colab_type": "code",
    "id": "6OP8-oCdesQM"
   },
   "outputs": [],
   "source": [
    "y_pred = classifier.predict(x_test)"
   ]
  },
  {
   "cell_type": "markdown",
   "metadata": {},
   "source": [
    "#### Confusion Matrix"
   ]
  },
  {
   "cell_type": "code",
   "execution_count": 67,
   "metadata": {},
   "outputs": [],
   "source": [
    "from sklearn.metrics import confusion_matrix\n",
    "cm = confusion_matrix(y_test, y_pred)"
   ]
  },
  {
   "cell_type": "markdown",
   "metadata": {},
   "source": [
    "#### Visualization"
   ]
  },
  {
   "cell_type": "code",
   "execution_count": 72,
   "metadata": {},
   "outputs": [
    {
     "name": "stderr",
     "output_type": "stream",
     "text": [
      "C:\\Users\\hendo\\Anaconda3\\lib\\site-packages\\sklearn\\metrics\\classification.py:1143: UndefinedMetricWarning: Precision and F-score are ill-defined and being set to 0.0 in labels with no predicted samples.\n",
      "  'precision', 'predicted', average, warn_for)\n"
     ]
    },
    {
     "name": "stdout",
     "output_type": "stream",
     "text": [
      "              precision    recall  f1-score   support\n",
      "\n",
      "          AU       0.00      0.00      0.00       158\n",
      "          CA       0.00      0.00      0.00       397\n",
      "          DE       0.00      0.00      0.00       315\n",
      "          ES       0.00      0.00      0.00       693\n",
      "          FR       0.00      0.00      0.00      1461\n",
      "          GB       0.00      0.00      0.00       696\n",
      "          IT       0.00      0.00      0.00       806\n",
      "         NDF       0.64      0.88      0.74     37441\n",
      "          NL       0.00      0.00      0.00       223\n",
      "          PT       0.00      0.00      0.00        66\n",
      "          US       0.45      0.30      0.36     18698\n",
      "       other       0.00      0.00      0.00      3082\n",
      "\n",
      "   micro avg       0.60      0.60      0.60     64036\n",
      "   macro avg       0.09      0.10      0.09     64036\n",
      "weighted avg       0.51      0.60      0.54     64036\n",
      "\n"
     ]
    },
    {
     "name": "stderr",
     "output_type": "stream",
     "text": [
      "C:\\Users\\hendo\\Anaconda3\\lib\\site-packages\\sklearn\\metrics\\classification.py:1143: UndefinedMetricWarning: Precision and F-score are ill-defined and being set to 0.0 in labels with no predicted samples.\n",
      "  'precision', 'predicted', average, warn_for)\n",
      "C:\\Users\\hendo\\Anaconda3\\lib\\site-packages\\sklearn\\metrics\\classification.py:1143: UndefinedMetricWarning: Precision and F-score are ill-defined and being set to 0.0 in labels with no predicted samples.\n",
      "  'precision', 'predicted', average, warn_for)\n"
     ]
    }
   ],
   "source": [
    "from sklearn.metrics import classification_report\n",
    "\n",
    "print(classification_report(y_test,y_pred))"
   ]
  },
  {
   "cell_type": "markdown",
   "metadata": {},
   "source": [
    "## _II - XGBoost_"
   ]
  },
  {
   "cell_type": "code",
   "execution_count": 79,
   "metadata": {},
   "outputs": [
    {
     "name": "stderr",
     "output_type": "stream",
     "text": [
      "C:\\Users\\hendo\\Anaconda3\\lib\\site-packages\\sklearn\\metrics\\classification.py:1143: UndefinedMetricWarning: Precision and F-score are ill-defined and being set to 0.0 in labels with no predicted samples.\n",
      "  'precision', 'predicted', average, warn_for)\n",
      "C:\\Users\\hendo\\Anaconda3\\lib\\site-packages\\sklearn\\metrics\\classification.py:1143: UndefinedMetricWarning: Precision and F-score are ill-defined and being set to 0.0 in labels with no predicted samples.\n",
      "  'precision', 'predicted', average, warn_for)\n"
     ]
    },
    {
     "name": "stdout",
     "output_type": "stream",
     "text": [
      "              precision    recall  f1-score   support\n",
      "\n",
      "          AU       0.00      0.00      0.00       158\n",
      "          CA       0.00      0.00      0.00       397\n",
      "          DE       0.00      0.00      0.00       315\n",
      "          ES       0.00      0.00      0.00       693\n",
      "          FR       0.00      0.00      0.00      1461\n",
      "          GB       0.00      0.00      0.00       696\n",
      "          IT       0.00      0.00      0.00       806\n",
      "         NDF       0.68      0.86      0.76     37441\n",
      "          NL       0.00      0.00      0.00       223\n",
      "          PT       0.00      0.00      0.00        66\n",
      "          US       0.49      0.42      0.45     18698\n",
      "       other       0.00      0.00      0.00      3082\n",
      "\n",
      "   micro avg       0.63      0.63      0.63     64036\n",
      "   macro avg       0.10      0.11      0.10     64036\n",
      "weighted avg       0.54      0.63      0.57     64036\n",
      "\n"
     ]
    },
    {
     "name": "stderr",
     "output_type": "stream",
     "text": [
      "C:\\Users\\hendo\\Anaconda3\\lib\\site-packages\\sklearn\\metrics\\classification.py:1143: UndefinedMetricWarning: Precision and F-score are ill-defined and being set to 0.0 in labels with no predicted samples.\n",
      "  'precision', 'predicted', average, warn_for)\n"
     ]
    }
   ],
   "source": [
    "from xgboost.sklearn import XGBClassifier\n",
    "\n",
    "xgb_classifier = XGBClassifier(max_depth = 2)\n",
    "xgb_classifier.fit(x_train, y_train)\n",
    "y_pred_xgb = xgb_classifier.predict(x_test)\n",
    "\n",
    "print(classification_report(y_test, y_pred_xgb))"
   ]
  },
  {
   "cell_type": "code",
   "execution_count": 81,
   "metadata": {},
   "outputs": [
    {
     "name": "stdout",
     "output_type": "stream",
     "text": [
      "Accuracy: 62.72%\n"
     ]
    }
   ],
   "source": [
    "from sklearn.metrics import accuracy_score\n",
    "\n",
    "accuracy = accuracy_score(y_test, y_pred_xgb)\n",
    "print(\"Accuracy: %.2f%%\" % (accuracy * 100.0))"
   ]
  },
  {
   "cell_type": "markdown",
   "metadata": {},
   "source": [
    "## _III - Random Forest Classifier_"
   ]
  },
  {
   "cell_type": "code",
   "execution_count": 82,
   "metadata": {},
   "outputs": [
    {
     "name": "stdout",
     "output_type": "stream",
     "text": [
      "[[    0     0     1     0     0     0     1    82     2     0    70     2]\n",
      " [    0     0     0     2     4     2     1   223     0     0   158     7]\n",
      " [    0     0     1     0     1     1     5   176     0     0   125     6]\n",
      " [    1     2     1     4     5     2     5   389     1     0   275     8]\n",
      " [    0     2     2     3    13     5     6   796     0     0   610    24]\n",
      " [    0     0     1     1     5     3     6   377     0     0   290    13]\n",
      " [    0     3     3     3    10     4     6   481     1     0   285    10]\n",
      " [   23    41    35    83   203    88   128 29295    30     5  7075   435]\n",
      " [    0     0     1     0     4     2     0   124     0     0    89     3]\n",
      " [    0     0     0     0     1     2     0    37     0     0    22     4]\n",
      " [   16    30    37    58   152    63    81 10485    14     3  7477   282]\n",
      " [    4     9     7     6    23     5    13  1804     2     3  1148    58]]\n"
     ]
    }
   ],
   "source": [
    "from sklearn.ensemble import RandomForestClassifier\n",
    "\n",
    "rf_classifier = RandomForestClassifier(n_estimators = 60)\n",
    "rf_classifier.fit(x_train,y_train)\n",
    "y_pred_rfc = rf_classifier.predict(x_test)\n",
    "print(confusion_matrix(y_test, y_pred_rfc))"
   ]
  },
  {
   "cell_type": "code",
   "execution_count": 84,
   "metadata": {},
   "outputs": [
    {
     "name": "stdout",
     "output_type": "stream",
     "text": [
      "              precision    recall  f1-score   support\n",
      "\n",
      "          AU       0.00      0.00      0.00       158\n",
      "          CA       0.00      0.00      0.00       397\n",
      "          DE       0.01      0.00      0.00       315\n",
      "          ES       0.03      0.01      0.01       693\n",
      "          FR       0.03      0.01      0.01      1461\n",
      "          GB       0.02      0.00      0.01       696\n",
      "          IT       0.02      0.01      0.01       806\n",
      "         NDF       0.66      0.78      0.72     37441\n",
      "          NL       0.00      0.00      0.00       223\n",
      "          PT       0.00      0.00      0.00        66\n",
      "          US       0.42      0.40      0.41     18698\n",
      "       other       0.07      0.02      0.03      3082\n",
      "\n",
      "   micro avg       0.58      0.58      0.58     64036\n",
      "   macro avg       0.11      0.10      0.10     64036\n",
      "weighted avg       0.52      0.58      0.54     64036\n",
      "\n"
     ]
    }
   ],
   "source": [
    "print(classification_report(y_test, y_pred_rfc))"
   ]
  },
  {
   "cell_type": "markdown",
   "metadata": {},
   "source": [
    "# Bonus : AutoML"
   ]
  },
  {
   "cell_type": "markdown",
   "metadata": {},
   "source": [
    "### A) Import packages "
   ]
  },
  {
   "cell_type": "code",
   "execution_count": 1,
   "metadata": {},
   "outputs": [],
   "source": [
    "import numpy as np\n",
    "import matplotlib.pyplot as plt\n",
    "import pandas as pd\n",
    "import h2o"
   ]
  },
  {
   "cell_type": "markdown",
   "metadata": {},
   "source": [
    "### B) H2o usage"
   ]
  },
  {
   "cell_type": "code",
   "execution_count": 2,
   "metadata": {},
   "outputs": [
    {
     "name": "stdout",
     "output_type": "stream",
     "text": [
      "Checking whether there is an H2O instance running at http://localhost:54321..... not found.\n",
      "Attempting to start a local H2O server...\n",
      "; Java HotSpot(TM) 64-Bit Server VM (build 25.121-b13, mixed mode)\n",
      "  Starting server from C:\\Users\\Maro\\Anaconda3\\lib\\site-packages\\h2o\\backend\\bin\\h2o.jar\n",
      "  Ice root: C:\\Users\\Maro\\AppData\\Local\\Temp\\tmp9atfciey\n",
      "  JVM stdout: C:\\Users\\Maro\\AppData\\Local\\Temp\\tmp9atfciey\\h2o_Maro_started_from_python.out\n",
      "  JVM stderr: C:\\Users\\Maro\\AppData\\Local\\Temp\\tmp9atfciey\\h2o_Maro_started_from_python.err\n",
      "  Server is running at http://127.0.0.1:54321\n",
      "Connecting to H2O server at http://127.0.0.1:54321... successful.\n"
     ]
    },
    {
     "data": {
      "text/html": [
       "<div style=\"overflow:auto\"><table style=\"width:50%\"><tr><td>H2O cluster uptime:</td>\n",
       "<td>05 secs</td></tr>\n",
       "<tr><td>H2O cluster timezone:</td>\n",
       "<td>Europe/Paris</td></tr>\n",
       "<tr><td>H2O data parsing timezone:</td>\n",
       "<td>UTC</td></tr>\n",
       "<tr><td>H2O cluster version:</td>\n",
       "<td>3.22.1.6</td></tr>\n",
       "<tr><td>H2O cluster version age:</td>\n",
       "<td>2 months and 17 days </td></tr>\n",
       "<tr><td>H2O cluster name:</td>\n",
       "<td>H2O_from_python_Maro_7xu28f</td></tr>\n",
       "<tr><td>H2O cluster total nodes:</td>\n",
       "<td>1</td></tr>\n",
       "<tr><td>H2O cluster free memory:</td>\n",
       "<td>1.761 Gb</td></tr>\n",
       "<tr><td>H2O cluster total cores:</td>\n",
       "<td>0</td></tr>\n",
       "<tr><td>H2O cluster allowed cores:</td>\n",
       "<td>0</td></tr>\n",
       "<tr><td>H2O cluster status:</td>\n",
       "<td>accepting new members, healthy</td></tr>\n",
       "<tr><td>H2O connection url:</td>\n",
       "<td>http://127.0.0.1:54321</td></tr>\n",
       "<tr><td>H2O connection proxy:</td>\n",
       "<td>None</td></tr>\n",
       "<tr><td>H2O internal security:</td>\n",
       "<td>False</td></tr>\n",
       "<tr><td>H2O API Extensions:</td>\n",
       "<td>Amazon S3, Algos, AutoML, Core V3, Core V4</td></tr>\n",
       "<tr><td>Python version:</td>\n",
       "<td>3.7.1 final</td></tr></table></div>"
      ],
      "text/plain": [
       "--------------------------  ------------------------------------------\n",
       "H2O cluster uptime:         05 secs\n",
       "H2O cluster timezone:       Europe/Paris\n",
       "H2O data parsing timezone:  UTC\n",
       "H2O cluster version:        3.22.1.6\n",
       "H2O cluster version age:    2 months and 17 days\n",
       "H2O cluster name:           H2O_from_python_Maro_7xu28f\n",
       "H2O cluster total nodes:    1\n",
       "H2O cluster free memory:    1.761 Gb\n",
       "H2O cluster total cores:    0\n",
       "H2O cluster allowed cores:  0\n",
       "H2O cluster status:         accepting new members, healthy\n",
       "H2O connection url:         http://127.0.0.1:54321\n",
       "H2O connection proxy:\n",
       "H2O internal security:      False\n",
       "H2O API Extensions:         Amazon S3, Algos, AutoML, Core V3, Core V4\n",
       "Python version:             3.7.1 final\n",
       "--------------------------  ------------------------------------------"
      ]
     },
     "metadata": {},
     "output_type": "display_data"
    },
    {
     "name": "stdout",
     "output_type": "stream",
     "text": [
      "Parse progress: |█████████████████████████████████████████████████████████| 100%\n"
     ]
    },
    {
     "data": {
      "text/html": [
       "<table>\n",
       "<thead>\n",
       "<tr><th>C1        </th><th>C2                  </th><th>C3                </th><th>C4       </th><th style=\"text-align: right;\">  C5</th><th>C6           </th><th>C7      </th><th>C8               </th><th>C9                </th><th>C10                    </th><th>C11       </th><th>C12              </th><th>C13          </th><th>C14                </th></tr>\n",
       "</thead>\n",
       "<tbody>\n",
       "<tr><td>id        </td><td>date_account_created</td><td>date_first_booking</td><td>gender   </td><td style=\"text-align: right;\"> nan</td><td>signup_method</td><td>language</td><td>affiliate_channel</td><td>affiliate_provider</td><td>first_affiliate_tracked</td><td>signup_app</td><td>first_device_type</td><td>first_browser</td><td>country_destination</td></tr>\n",
       "<tr><td>gxn3p5htnn</td><td>28/06/2010          </td><td>                  </td><td>-unknown-</td><td style=\"text-align: right;\"> nan</td><td>facebook     </td><td>en      </td><td>direct           </td><td>direct            </td><td>untracked              </td><td>Web       </td><td>Mac Desktop      </td><td>Chrome       </td><td>NDF                </td></tr>\n",
       "<tr><td>820tgsjxq7</td><td>25/05/2011          </td><td>                  </td><td>MALE     </td><td style=\"text-align: right;\">  38</td><td>facebook     </td><td>en      </td><td>seo              </td><td>google            </td><td>untracked              </td><td>Web       </td><td>Mac Desktop      </td><td>Chrome       </td><td>NDF                </td></tr>\n",
       "<tr><td>4ft3gnwmtx</td><td>28/09/2010          </td><td>02/08/2010        </td><td>FEMALE   </td><td style=\"text-align: right;\">  56</td><td>basic        </td><td>en      </td><td>direct           </td><td>direct            </td><td>untracked              </td><td>Web       </td><td>Windows Desktop  </td><td>IE           </td><td>US                 </td></tr>\n",
       "<tr><td>bjjt8pjhuk</td><td>05/12/2011          </td><td>08/09/2012        </td><td>FEMALE   </td><td style=\"text-align: right;\">  42</td><td>facebook     </td><td>en      </td><td>direct           </td><td>direct            </td><td>untracked              </td><td>Web       </td><td>Mac Desktop      </td><td>Firefox      </td><td>other              </td></tr>\n",
       "<tr><td>87mebub9p4</td><td>14/09/2010          </td><td>18/02/2010        </td><td>-unknown-</td><td style=\"text-align: right;\">  41</td><td>basic        </td><td>en      </td><td>direct           </td><td>direct            </td><td>untracked              </td><td>Web       </td><td>Mac Desktop      </td><td>Chrome       </td><td>US                 </td></tr>\n",
       "<tr><td>osr2jwljor</td><td>01/01/2010          </td><td>02/01/2010        </td><td>-unknown-</td><td style=\"text-align: right;\"> nan</td><td>basic        </td><td>en      </td><td>other            </td><td>other             </td><td>omg                    </td><td>Web       </td><td>Mac Desktop      </td><td>Chrome       </td><td>US                 </td></tr>\n",
       "<tr><td>lsw9q7uk0j</td><td>02/01/2010          </td><td>05/01/2010        </td><td>FEMALE   </td><td style=\"text-align: right;\">  46</td><td>basic        </td><td>en      </td><td>other            </td><td>craigslist        </td><td>untracked              </td><td>Web       </td><td>Mac Desktop      </td><td>Safari       </td><td>US                 </td></tr>\n",
       "<tr><td>0d01nltbrs</td><td>03/01/2010          </td><td>13/01/2010        </td><td>FEMALE   </td><td style=\"text-align: right;\">  47</td><td>basic        </td><td>en      </td><td>direct           </td><td>direct            </td><td>omg                    </td><td>Web       </td><td>Mac Desktop      </td><td>Safari       </td><td>US                 </td></tr>\n",
       "<tr><td>a1vcnhxeij</td><td>04/01/2010          </td><td>29/07/2010        </td><td>FEMALE   </td><td style=\"text-align: right;\">  50</td><td>basic        </td><td>en      </td><td>other            </td><td>craigslist        </td><td>untracked              </td><td>Web       </td><td>Mac Desktop      </td><td>Safari       </td><td>US                 </td></tr>\n",
       "</tbody>\n",
       "</table>"
      ]
     },
     "metadata": {},
     "output_type": "display_data"
    },
    {
     "data": {
      "text/plain": []
     },
     "execution_count": 2,
     "metadata": {},
     "output_type": "execute_result"
    }
   ],
   "source": [
    "from h2o.automl import H2OAutoML\n",
    "\n",
    "h2o.init()\n",
    "\n",
    "df = h2o.import_file(\"train_user.csv\")\n",
    "df.head()"
   ]
  },
  {
   "cell_type": "markdown",
   "metadata": {},
   "source": [
    "### C) Dataset description"
   ]
  },
  {
   "cell_type": "code",
   "execution_count": 3,
   "metadata": {},
   "outputs": [
    {
     "name": "stdout",
     "output_type": "stream",
     "text": [
      "Rows:213452\n",
      "Cols:14\n",
      "\n",
      "\n"
     ]
    },
    {
     "data": {
      "text/html": [
       "<table>\n",
       "<thead>\n",
       "<tr><th>       </th><th>C1        </th><th>C2                  </th><th>C3                </th><th>C4       </th><th>C5                </th><th>C6           </th><th>C7      </th><th>C8               </th><th>C9                </th><th>C10                    </th><th>C11       </th><th>C12              </th><th>C13          </th><th>C14                </th></tr>\n",
       "</thead>\n",
       "<tbody>\n",
       "<tr><td>type   </td><td>string    </td><td>enum                </td><td>enum              </td><td>enum     </td><td>int               </td><td>enum         </td><td>enum    </td><td>enum             </td><td>enum              </td><td>enum                   </td><td>enum      </td><td>enum             </td><td>enum         </td><td>enum               </td></tr>\n",
       "<tr><td>mins   </td><td>NaN       </td><td>                    </td><td>                  </td><td>         </td><td>1.0               </td><td>             </td><td>        </td><td>                 </td><td>                  </td><td>                       </td><td>          </td><td>                 </td><td>             </td><td>                   </td></tr>\n",
       "<tr><td>mean   </td><td>NaN       </td><td>                    </td><td>                  </td><td>         </td><td>49.66833517985669 </td><td>             </td><td>        </td><td>                 </td><td>                  </td><td>                       </td><td>          </td><td>                 </td><td>             </td><td>                   </td></tr>\n",
       "<tr><td>maxs   </td><td>NaN       </td><td>                    </td><td>                  </td><td>         </td><td>2014.0            </td><td>             </td><td>        </td><td>                 </td><td>                  </td><td>                       </td><td>          </td><td>                 </td><td>             </td><td>                   </td></tr>\n",
       "<tr><td>sigma  </td><td>NaN       </td><td>                    </td><td>                  </td><td>         </td><td>155.66661183021534</td><td>             </td><td>        </td><td>                 </td><td>                  </td><td>                       </td><td>          </td><td>                 </td><td>             </td><td>                   </td></tr>\n",
       "<tr><td>zeros  </td><td>0         </td><td>                    </td><td>                  </td><td>         </td><td>0                 </td><td>             </td><td>        </td><td>                 </td><td>                  </td><td>                       </td><td>          </td><td>                 </td><td>             </td><td>                   </td></tr>\n",
       "<tr><td>missing</td><td>0         </td><td>0                   </td><td>124543            </td><td>0        </td><td>87991             </td><td>0            </td><td>0       </td><td>0                </td><td>0                 </td><td>6065                   </td><td>0         </td><td>0                </td><td>0            </td><td>0                  </td></tr>\n",
       "<tr><td>0      </td><td>id        </td><td>date_account_created</td><td>date_first_booking</td><td>gender   </td><td>nan               </td><td>signup_method</td><td>language</td><td>affiliate_channel</td><td>affiliate_provider</td><td>first_affiliate_tracked</td><td>signup_app</td><td>first_device_type</td><td>first_browser</td><td>country_destination</td></tr>\n",
       "<tr><td>1      </td><td>gxn3p5htnn</td><td>28/06/2010          </td><td>                  </td><td>-unknown-</td><td>nan               </td><td>facebook     </td><td>en      </td><td>direct           </td><td>direct            </td><td>untracked              </td><td>Web       </td><td>Mac Desktop      </td><td>Chrome       </td><td>NDF                </td></tr>\n",
       "<tr><td>2      </td><td>820tgsjxq7</td><td>25/05/2011          </td><td>                  </td><td>MALE     </td><td>38.0              </td><td>facebook     </td><td>en      </td><td>seo              </td><td>google            </td><td>untracked              </td><td>Web       </td><td>Mac Desktop      </td><td>Chrome       </td><td>NDF                </td></tr>\n",
       "<tr><td>3      </td><td>4ft3gnwmtx</td><td>28/09/2010          </td><td>02/08/2010        </td><td>FEMALE   </td><td>56.0              </td><td>basic        </td><td>en      </td><td>direct           </td><td>direct            </td><td>untracked              </td><td>Web       </td><td>Windows Desktop  </td><td>IE           </td><td>US                 </td></tr>\n",
       "<tr><td>4      </td><td>bjjt8pjhuk</td><td>05/12/2011          </td><td>08/09/2012        </td><td>FEMALE   </td><td>42.0              </td><td>facebook     </td><td>en      </td><td>direct           </td><td>direct            </td><td>untracked              </td><td>Web       </td><td>Mac Desktop      </td><td>Firefox      </td><td>other              </td></tr>\n",
       "<tr><td>5      </td><td>87mebub9p4</td><td>14/09/2010          </td><td>18/02/2010        </td><td>-unknown-</td><td>41.0              </td><td>basic        </td><td>en      </td><td>direct           </td><td>direct            </td><td>untracked              </td><td>Web       </td><td>Mac Desktop      </td><td>Chrome       </td><td>US                 </td></tr>\n",
       "<tr><td>6      </td><td>osr2jwljor</td><td>01/01/2010          </td><td>02/01/2010        </td><td>-unknown-</td><td>nan               </td><td>basic        </td><td>en      </td><td>other            </td><td>other             </td><td>omg                    </td><td>Web       </td><td>Mac Desktop      </td><td>Chrome       </td><td>US                 </td></tr>\n",
       "<tr><td>7      </td><td>lsw9q7uk0j</td><td>02/01/2010          </td><td>05/01/2010        </td><td>FEMALE   </td><td>46.0              </td><td>basic        </td><td>en      </td><td>other            </td><td>craigslist        </td><td>untracked              </td><td>Web       </td><td>Mac Desktop      </td><td>Safari       </td><td>US                 </td></tr>\n",
       "<tr><td>8      </td><td>0d01nltbrs</td><td>03/01/2010          </td><td>13/01/2010        </td><td>FEMALE   </td><td>47.0              </td><td>basic        </td><td>en      </td><td>direct           </td><td>direct            </td><td>omg                    </td><td>Web       </td><td>Mac Desktop      </td><td>Safari       </td><td>US                 </td></tr>\n",
       "<tr><td>9      </td><td>a1vcnhxeij</td><td>04/01/2010          </td><td>29/07/2010        </td><td>FEMALE   </td><td>50.0              </td><td>basic        </td><td>en      </td><td>other            </td><td>craigslist        </td><td>untracked              </td><td>Web       </td><td>Mac Desktop      </td><td>Safari       </td><td>US                 </td></tr>\n",
       "</tbody>\n",
       "</table>"
      ]
     },
     "metadata": {},
     "output_type": "display_data"
    }
   ],
   "source": [
    "df.describe()"
   ]
  },
  {
   "cell_type": "markdown",
   "metadata": {},
   "source": [
    "### D) Separating dataset : train & test"
   ]
  },
  {
   "cell_type": "markdown",
   "metadata": {},
   "source": [
    "Run AutoML, stopping after 600 seconds. The *max_runtime_secs* argument provides a way to limit the AutoML run by time. When using a time-limited stopping criterion, the number of models train will vary between runs. If different hardware is used or even if the same machine is used but the available compute resources on that machine are not the same between runs, then AutoML may be able to train more models on one run vs another."
   ]
  },
  {
   "cell_type": "code",
   "execution_count": 4,
   "metadata": {},
   "outputs": [
    {
     "name": "stdout",
     "output_type": "stream",
     "text": [
      "AutoML progress: |████████████████████████████████████████████████████████| 100%\n"
     ]
    }
   ],
   "source": [
    "x = ['C1', 'C2', 'C3', 'C4', 'C5', 'C6', 'C7', 'C8', 'C9', 'C10', 'C11', 'C12', 'C13']\n",
    "y = \"C14\"\n",
    "\n",
    "df[y] = df[y].asfactor()\n",
    "\n",
    "aml = H2OAutoML(max_models = 5, max_runtime_secs = 600, seed = 1)\n",
    "aml.train(x = x, y = y, training_frame = df)"
   ]
  },
  {
   "cell_type": "markdown",
   "metadata": {},
   "source": [
    "### E) Leaderboard"
   ]
  },
  {
   "cell_type": "markdown",
   "metadata": {},
   "source": [
    "Next, we will view the AutoML Leaderboard."
   ]
  },
  {
   "cell_type": "code",
   "execution_count": 5,
   "metadata": {},
   "outputs": [
    {
     "data": {
      "text/html": [
       "<table>\n",
       "<thead>\n",
       "<tr><th>model_id                    </th><th style=\"text-align: right;\">  mean_per_class_error</th><th style=\"text-align: right;\">  logloss</th><th style=\"text-align: right;\">   rmse</th><th style=\"text-align: right;\">     mse</th></tr>\n",
       "</thead>\n",
       "<tbody>\n",
       "<tr><td>DRF_1_AutoML_20190531_183136</td><td style=\"text-align: right;\">              0.846061</td><td style=\"text-align: right;\"> 0.524852</td><td style=\"text-align: right;\">0.36266</td><td style=\"text-align: right;\">0.131522</td></tr>\n",
       "</tbody>\n",
       "</table>"
      ]
     },
     "metadata": {},
     "output_type": "display_data"
    },
    {
     "data": {
      "text/plain": []
     },
     "execution_count": 5,
     "metadata": {},
     "output_type": "execute_result"
    }
   ],
   "source": [
    "lb = aml.leaderboard\n",
    "lb.head()"
   ]
  },
  {
   "cell_type": "markdown",
   "metadata": {},
   "source": [
    "AutoML selected the best model possible which is a *Distributed Random Forest* and found a RMSE of 0.36266 which make it an accuracy score of approximately 71%."
   ]
  }
 ],
 "metadata": {
  "colab": {
   "collapsed_sections": [
    "FGteQDvHesO5",
    "2S0gwBpvesPP",
    "X4ZC0jC1esPl",
    "B2xXoqgVesPt",
    "GiE8CH4ilmg7"
   ],
   "name": "Airbnb_prep.ipynb",
   "provenance": [],
   "version": "0.3.2"
  },
  "kernelspec": {
   "display_name": "Python 3",
   "language": "python",
   "name": "python3"
  },
  "language_info": {
   "codemirror_mode": {
    "name": "ipython",
    "version": 3
   },
   "file_extension": ".py",
   "mimetype": "text/x-python",
   "name": "python",
   "nbconvert_exporter": "python",
   "pygments_lexer": "ipython3",
   "version": "3.7.1"
  }
 },
 "nbformat": 4,
 "nbformat_minor": 1
}
